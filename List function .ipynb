{
 "cells": [
  {
   "cell_type": "code",
   "execution_count": 1,
   "id": "9554edaa-0ad8-4dc8-8b5f-275d77695275",
   "metadata": {},
   "outputs": [],
   "source": [
    "l = [3,4,5,6,34.56,'Piyush',True]"
   ]
  },
  {
   "cell_type": "code",
   "execution_count": 2,
   "id": "3e4db739-8910-482c-a1e1-75524f0f0b20",
   "metadata": {},
   "outputs": [
    {
     "data": {
      "text/plain": [
       "list"
      ]
     },
     "execution_count": 2,
     "metadata": {},
     "output_type": "execute_result"
    }
   ],
   "source": [
    "type(l)"
   ]
  },
  {
   "cell_type": "code",
   "execution_count": 3,
   "id": "9f5f74d8-2921-4c83-95c2-cf2c71fe93ed",
   "metadata": {},
   "outputs": [
    {
     "data": {
      "text/plain": [
       "[3, 4, 5, 6, 34.56, 'Piyush', True, 3, 4, 5, 6, 34.56, 'Piyush', True]"
      ]
     },
     "execution_count": 3,
     "metadata": {},
     "output_type": "execute_result"
    }
   ],
   "source": [
    "l*2"
   ]
  },
  {
   "cell_type": "code",
   "execution_count": 4,
   "id": "c6f06ab6-5366-4f86-a7aa-a12922d1181a",
   "metadata": {},
   "outputs": [
    {
     "data": {
      "text/plain": [
       "[3, 4, 5, 6, 34.56, 'Piyush', True, 3, 4, 5, 6, 34.56, 'Piyush', True]"
      ]
     },
     "execution_count": 4,
     "metadata": {},
     "output_type": "execute_result"
    }
   ],
   "source": [
    "l*2"
   ]
  },
  {
   "cell_type": "code",
   "execution_count": 5,
   "id": "3d9ea066-9435-4d9f-8f0c-350fd5c3044e",
   "metadata": {},
   "outputs": [],
   "source": [
    "s = 'sudh '"
   ]
  },
  {
   "cell_type": "code",
   "execution_count": 6,
   "id": "481511a2-0e9c-469a-af3b-4d63f50c89c7",
   "metadata": {},
   "outputs": [
    {
     "data": {
      "text/plain": [
       "'sudh sudh sudh '"
      ]
     },
     "execution_count": 6,
     "metadata": {},
     "output_type": "execute_result"
    }
   ],
   "source": [
    "s*3"
   ]
  },
  {
   "cell_type": "code",
   "execution_count": 7,
   "id": "447c2d24-35cc-4000-9ffe-b4b81799177d",
   "metadata": {},
   "outputs": [],
   "source": [
    "l1 = [3,4,5,6,7]"
   ]
  },
  {
   "cell_type": "code",
   "execution_count": 8,
   "id": "d032561b-d776-434a-945d-68931a4b89c9",
   "metadata": {},
   "outputs": [
    {
     "data": {
      "text/plain": [
       "[3, 4, 5, 6, 34.56, 'Piyush', True, 3, 4, 5, 6, 7]"
      ]
     },
     "execution_count": 8,
     "metadata": {},
     "output_type": "execute_result"
    }
   ],
   "source": [
    "l +l1  #here it we will add 2 list "
   ]
  },
  {
   "cell_type": "code",
   "execution_count": 9,
   "id": "c72be900-e026-45e5-9335-305e503ca4a2",
   "metadata": {},
   "outputs": [
    {
     "ename": "TypeError",
     "evalue": "can only concatenate list (not \"str\") to list",
     "output_type": "error",
     "traceback": [
      "\u001b[1;31m---------------------------------------------------------------------------\u001b[0m",
      "\u001b[1;31mTypeError\u001b[0m                                 Traceback (most recent call last)",
      "Cell \u001b[1;32mIn[9], line 1\u001b[0m\n\u001b[1;32m----> 1\u001b[0m \u001b[43ml\u001b[49m\u001b[43m \u001b[49m\u001b[38;5;241;43m+\u001b[39;49m\u001b[43m \u001b[49m\u001b[38;5;124;43m'\u001b[39;49m\u001b[38;5;124;43mSudh\u001b[39;49m\u001b[38;5;124;43m'\u001b[39;49m\n",
      "\u001b[1;31mTypeError\u001b[0m: can only concatenate list (not \"str\") to list"
     ]
    }
   ],
   "source": [
    "l + 'Sudh'"
   ]
  },
  {
   "cell_type": "code",
   "execution_count": 10,
   "id": "bf82d6f4-ef7c-4f8b-96c5-03d105a48271",
   "metadata": {},
   "outputs": [
    {
     "data": {
      "text/plain": [
       "[3, 4, 5, 6, 34.56, 'Piyush', True]"
      ]
     },
     "execution_count": 10,
     "metadata": {},
     "output_type": "execute_result"
    }
   ],
   "source": [
    "l"
   ]
  },
  {
   "cell_type": "code",
   "execution_count": 11,
   "id": "40a8fd4e-2025-45ce-afe9-0c4d2e6875ec",
   "metadata": {},
   "outputs": [
    {
     "data": {
      "text/plain": [
       "7"
      ]
     },
     "execution_count": 11,
     "metadata": {},
     "output_type": "execute_result"
    }
   ],
   "source": [
    "len(l)"
   ]
  },
  {
   "cell_type": "code",
   "execution_count": 12,
   "id": "bf9f731a-e7c9-4809-8b23-0e4bcbd90a52",
   "metadata": {},
   "outputs": [
    {
     "data": {
      "text/plain": [
       "'sudh '"
      ]
     },
     "execution_count": 12,
     "metadata": {},
     "output_type": "execute_result"
    }
   ],
   "source": [
    "s "
   ]
  },
  {
   "cell_type": "code",
   "execution_count": 14,
   "id": "9bc319c5-8787-4c9e-959b-96519bb0f8f2",
   "metadata": {},
   "outputs": [
    {
     "data": {
      "text/plain": [
       "5"
      ]
     },
     "execution_count": 14,
     "metadata": {},
     "output_type": "execute_result"
    }
   ],
   "source": [
    "len(s)"
   ]
  },
  {
   "cell_type": "code",
   "execution_count": 15,
   "id": "e28a71a8-2522-48d8-b044-8ea4560ffcac",
   "metadata": {},
   "outputs": [
    {
     "data": {
      "text/plain": [
       "False"
      ]
     },
     "execution_count": 15,
     "metadata": {},
     "output_type": "execute_result"
    }
   ],
   "source": [
    "\"sudh\" in l"
   ]
  },
  {
   "cell_type": "code",
   "execution_count": 17,
   "id": "3560b088-1004-4ade-ae2f-9666dd326c07",
   "metadata": {},
   "outputs": [
    {
     "data": {
      "text/plain": [
       "True"
      ]
     },
     "execution_count": 17,
     "metadata": {},
     "output_type": "execute_result"
    }
   ],
   "source": [
    "\"Piyush\" in l"
   ]
  },
  {
   "cell_type": "code",
   "execution_count": 18,
   "id": "10a9ee1d-00ca-4042-835f-ba6d8374428e",
   "metadata": {},
   "outputs": [
    {
     "data": {
      "text/plain": [
       "False"
      ]
     },
     "execution_count": 18,
     "metadata": {},
     "output_type": "execute_result"
    }
   ],
   "source": [
    "100 in l"
   ]
  },
  {
   "cell_type": "code",
   "execution_count": 21,
   "id": "9356fe71-f1be-4120-942d-865cd77fabd2",
   "metadata": {},
   "outputs": [
    {
     "data": {
      "text/plain": [
       "[3, 4, 5, 6, 7]"
      ]
     },
     "execution_count": 21,
     "metadata": {},
     "output_type": "execute_result"
    }
   ],
   "source": [
    "l1"
   ]
  },
  {
   "cell_type": "code",
   "execution_count": 22,
   "id": "41ecb578-31a0-48f6-b69d-96c68425e56a",
   "metadata": {},
   "outputs": [
    {
     "data": {
      "text/plain": [
       "7"
      ]
     },
     "execution_count": 22,
     "metadata": {},
     "output_type": "execute_result"
    }
   ],
   "source": [
    "max(l1)"
   ]
  },
  {
   "cell_type": "code",
   "execution_count": 23,
   "id": "9b6b5d2e-f15c-4b8d-9290-7b1189e2da84",
   "metadata": {},
   "outputs": [
    {
     "data": {
      "text/plain": [
       "3"
      ]
     },
     "execution_count": 23,
     "metadata": {},
     "output_type": "execute_result"
    }
   ],
   "source": [
    "min(l1)"
   ]
  },
  {
   "cell_type": "code",
   "execution_count": 26,
   "id": "c5050d49-e5f8-4409-a7de-634c8e3beee4",
   "metadata": {},
   "outputs": [
    {
     "data": {
      "text/plain": [
       "3"
      ]
     },
     "execution_count": 26,
     "metadata": {},
     "output_type": "execute_result"
    }
   ],
   "source": [
    "min(l1)"
   ]
  },
  {
   "cell_type": "code",
   "execution_count": 27,
   "id": "a600021a-4112-4ce3-926e-d84eb146fd71",
   "metadata": {},
   "outputs": [],
   "source": [
    "l2 = ['sudh' , 'piyush' ,'srii']"
   ]
  },
  {
   "cell_type": "code",
   "execution_count": 28,
   "id": "44ba1630-24f5-4225-8f6c-6ad49a9c77fb",
   "metadata": {},
   "outputs": [
    {
     "data": {
      "text/plain": [
       "'sudh'"
      ]
     },
     "execution_count": 28,
     "metadata": {},
     "output_type": "execute_result"
    }
   ],
   "source": [
    "max(l2)"
   ]
  },
  {
   "cell_type": "code",
   "execution_count": 29,
   "id": "00de47eb-6c5f-414d-b2c7-d506aec47d55",
   "metadata": {},
   "outputs": [],
   "source": [
    "l3 = [True,False]"
   ]
  },
  {
   "cell_type": "code",
   "execution_count": 30,
   "id": "45e23cf4-0ca1-4cc9-b61d-e74790a88953",
   "metadata": {},
   "outputs": [
    {
     "data": {
      "text/plain": [
       "True"
      ]
     },
     "execution_count": 30,
     "metadata": {},
     "output_type": "execute_result"
    }
   ],
   "source": [
    "max(l3)"
   ]
  },
  {
   "cell_type": "code",
   "execution_count": 33,
   "id": "805efa46-36be-4650-b8e4-ee33100f67bb",
   "metadata": {},
   "outputs": [],
   "source": [
    "l2.append(45)  #append is always add the element in the last in the list "
   ]
  },
  {
   "cell_type": "code",
   "execution_count": 34,
   "id": "1eecdcf8-1c88-43cb-8d34-522d6befc684",
   "metadata": {},
   "outputs": [
    {
     "data": {
      "text/plain": [
       "['sudh', 'piyush', 'srii', 45, 45]"
      ]
     },
     "execution_count": 34,
     "metadata": {},
     "output_type": "execute_result"
    }
   ],
   "source": [
    "l2"
   ]
  },
  {
   "cell_type": "code",
   "execution_count": 35,
   "id": "1e330c3c-e2b5-4f34-9b80-8d441ad3ce10",
   "metadata": {},
   "outputs": [],
   "source": [
    "l2.append(\"Pwskills\")"
   ]
  },
  {
   "cell_type": "code",
   "execution_count": 56,
   "id": "00da4f1a-f90d-4d90-b3f0-bf2f2814f558",
   "metadata": {},
   "outputs": [
    {
     "data": {
      "text/plain": [
       "[2424, 2424, 'sudh', 'piyush', 'srii', 45]"
      ]
     },
     "execution_count": 56,
     "metadata": {},
     "output_type": "execute_result"
    }
   ],
   "source": [
    "l2"
   ]
  },
  {
   "cell_type": "code",
   "execution_count": 57,
   "id": "684f1b93-5388-4696-823c-23dfde59f381",
   "metadata": {},
   "outputs": [],
   "source": [
    "l2.insert(1,'prashant')  #add the value in b/w the list "
   ]
  },
  {
   "cell_type": "code",
   "execution_count": 58,
   "id": "6da802d3-f31a-41ee-a6a1-ec5d2b77a467",
   "metadata": {},
   "outputs": [
    {
     "data": {
      "text/plain": [
       "[2424, 'prashant', 2424, 'sudh', 'piyush', 'srii', 45]"
      ]
     },
     "execution_count": 58,
     "metadata": {},
     "output_type": "execute_result"
    }
   ],
   "source": [
    "l2"
   ]
  },
  {
   "cell_type": "code",
   "execution_count": 62,
   "id": "79d43ce4-6cde-4f44-a262-a7323b01e562",
   "metadata": {},
   "outputs": [],
   "source": [
    "l2.insert(0,2424)"
   ]
  },
  {
   "cell_type": "code",
   "execution_count": 63,
   "id": "b7607ef2-25fd-400e-8536-70f88f0b6503",
   "metadata": {},
   "outputs": [
    {
     "data": {
      "text/plain": [
       "[2424, 2424, 2424, 'prashant', 2424, 'sudh', 'piyush', 'srii', 45]"
      ]
     },
     "execution_count": 63,
     "metadata": {},
     "output_type": "execute_result"
    }
   ],
   "source": [
    "l2"
   ]
  },
  {
   "cell_type": "code",
   "execution_count": 73,
   "id": "5dd16d9b-c017-4a02-bd35-dd6e887cee4c",
   "metadata": {},
   "outputs": [
    {
     "data": {
      "text/plain": [
       "'prashant'"
      ]
     },
     "execution_count": 73,
     "metadata": {},
     "output_type": "execute_result"
    }
   ],
   "source": [
    "l2.pop(0)  #remove the data in the list "
   ]
  },
  {
   "cell_type": "code",
   "execution_count": 71,
   "id": "b4e07925-703e-445e-a2d6-1942c6e7839f",
   "metadata": {},
   "outputs": [
    {
     "data": {
      "text/plain": [
       "'srii'"
      ]
     },
     "execution_count": 71,
     "metadata": {},
     "output_type": "execute_result"
    }
   ],
   "source": [
    "l2.pop(4)"
   ]
  },
  {
   "cell_type": "code",
   "execution_count": 74,
   "id": "0e93245c-f8c9-4a64-8a8a-a59f0b09598b",
   "metadata": {},
   "outputs": [
    {
     "data": {
      "text/plain": [
       "[2424, 'sudh', 'piyush']"
      ]
     },
     "execution_count": 74,
     "metadata": {},
     "output_type": "execute_result"
    }
   ],
   "source": [
    "l2"
   ]
  },
  {
   "cell_type": "code",
   "execution_count": 75,
   "id": "95a121f3-32ba-433d-8f6d-e9f18a8a4dc3",
   "metadata": {},
   "outputs": [
    {
     "data": {
      "text/plain": [
       "['piyush', 'sudh', 2424]"
      ]
     },
     "execution_count": 75,
     "metadata": {},
     "output_type": "execute_result"
    }
   ],
   "source": [
    "l2[::-1]  #here we are not reverse the element in the list permanently"
   ]
  },
  {
   "cell_type": "code",
   "execution_count": 76,
   "id": "642cc1f8-dbb6-4b7d-80c9-bef6a1f32f8c",
   "metadata": {},
   "outputs": [
    {
     "data": {
      "text/plain": [
       "[2424, 'sudh', 'piyush']"
      ]
     },
     "execution_count": 76,
     "metadata": {},
     "output_type": "execute_result"
    }
   ],
   "source": [
    "l2"
   ]
  },
  {
   "cell_type": "code",
   "execution_count": 77,
   "id": "ee8e3774-5c56-4b10-8f76-d10d9bee17be",
   "metadata": {},
   "outputs": [],
   "source": [
    "l2.reverse()  #but in the reverse function the list is permanently "
   ]
  },
  {
   "cell_type": "code",
   "execution_count": 79,
   "id": "64ba5c95-7bfa-4de9-bc10-6c905ee3f455",
   "metadata": {},
   "outputs": [
    {
     "data": {
      "text/plain": [
       "['piyush', 'sudh', 2424]"
      ]
     },
     "execution_count": 79,
     "metadata": {},
     "output_type": "execute_result"
    }
   ],
   "source": [
    "l2"
   ]
  },
  {
   "cell_type": "code",
   "execution_count": 80,
   "id": "4f68e599-f9f6-48d3-b390-87a7d35c3f98",
   "metadata": {},
   "outputs": [
    {
     "ename": "TypeError",
     "evalue": "'<' not supported between instances of 'int' and 'str'",
     "output_type": "error",
     "traceback": [
      "\u001b[1;31m---------------------------------------------------------------------------\u001b[0m",
      "\u001b[1;31mTypeError\u001b[0m                                 Traceback (most recent call last)",
      "Cell \u001b[1;32mIn[80], line 1\u001b[0m\n\u001b[1;32m----> 1\u001b[0m \u001b[43ml2\u001b[49m\u001b[38;5;241;43m.\u001b[39;49m\u001b[43msort\u001b[49m\u001b[43m(\u001b[49m\u001b[43m)\u001b[49m\n",
      "\u001b[1;31mTypeError\u001b[0m: '<' not supported between instances of 'int' and 'str'"
     ]
    }
   ],
   "source": [
    "l2.sort()"
   ]
  },
  {
   "cell_type": "code",
   "execution_count": 81,
   "id": "1acca564-0aa4-4270-b24b-99f7e034022e",
   "metadata": {},
   "outputs": [],
   "source": [
    "l4 = [2,6,45,9,2,8,9,3,7,9,6,6,8,666]"
   ]
  },
  {
   "cell_type": "code",
   "execution_count": 84,
   "id": "c8fc2cf7-f40f-47fd-b224-d32aacd6aae5",
   "metadata": {},
   "outputs": [],
   "source": [
    "l4.sort()"
   ]
  },
  {
   "cell_type": "code",
   "execution_count": 85,
   "id": "73bc27d6-fe20-45bf-8055-eb38661c88af",
   "metadata": {},
   "outputs": [
    {
     "data": {
      "text/plain": [
       "[2, 2, 3, 6, 6, 6, 7, 8, 8, 9, 9, 9, 45, 666]"
      ]
     },
     "execution_count": 85,
     "metadata": {},
     "output_type": "execute_result"
    }
   ],
   "source": [
    "l4"
   ]
  },
  {
   "cell_type": "code",
   "execution_count": 86,
   "id": "4a81d271-88ab-47ed-a987-19a4aa719f39",
   "metadata": {},
   "outputs": [],
   "source": [
    "l5 = ['piyush','prashant','srii','amiya']"
   ]
  },
  {
   "cell_type": "code",
   "execution_count": 90,
   "id": "b4530e46-2312-433a-9702-122e99b14a7f",
   "metadata": {},
   "outputs": [],
   "source": [
    "l5.sort(reverse=True)"
   ]
  },
  {
   "cell_type": "code",
   "execution_count": 91,
   "id": "960d46fa-6ef3-49e7-901a-0596e382e6bb",
   "metadata": {},
   "outputs": [
    {
     "data": {
      "text/plain": [
       "['srii', 'prashant', 'piyush', 'amiya']"
      ]
     },
     "execution_count": 91,
     "metadata": {},
     "output_type": "execute_result"
    }
   ],
   "source": [
    "l5"
   ]
  },
  {
   "cell_type": "code",
   "execution_count": 92,
   "id": "993ae176-2aff-4d9d-86a2-845890b9915e",
   "metadata": {},
   "outputs": [],
   "source": [
    "l4.sort(reverse=True)"
   ]
  },
  {
   "cell_type": "code",
   "execution_count": 93,
   "id": "a6760b90-91f2-49cd-a647-397079ba532e",
   "metadata": {},
   "outputs": [
    {
     "data": {
      "text/plain": [
       "[666, 45, 9, 9, 9, 8, 8, 7, 6, 6, 6, 3, 2, 2]"
      ]
     },
     "execution_count": 93,
     "metadata": {},
     "output_type": "execute_result"
    }
   ],
   "source": [
    "l4"
   ]
  },
  {
   "cell_type": "code",
   "execution_count": 94,
   "id": "c3dcd732-dcfc-4d3d-8b47-a5b205f9cef8",
   "metadata": {},
   "outputs": [
    {
     "data": {
      "text/plain": [
       "[[3, 4, 5, 6, 7], ['piyush', 'sudh', 2424]]"
      ]
     },
     "execution_count": 94,
     "metadata": {},
     "output_type": "execute_result"
    }
   ],
   "source": [
    "[l1,l2]"
   ]
  },
  {
   "cell_type": "code",
   "execution_count": 95,
   "id": "b51e4322-a1ca-43e2-8f64-eca71edfcd41",
   "metadata": {},
   "outputs": [],
   "source": [
    "l6 = [l1,l2,l3]"
   ]
  },
  {
   "cell_type": "code",
   "execution_count": 96,
   "id": "cae2ec28-b870-4165-b35b-2ab9b054b1b1",
   "metadata": {},
   "outputs": [
    {
     "data": {
      "text/plain": [
       "[[3, 4, 5, 6, 7], ['piyush', 'sudh', 2424], [True, False]]"
      ]
     },
     "execution_count": 96,
     "metadata": {},
     "output_type": "execute_result"
    }
   ],
   "source": [
    "l6"
   ]
  },
  {
   "cell_type": "code",
   "execution_count": 97,
   "id": "6bc04cfd-595e-449e-807c-f56169b77ad2",
   "metadata": {},
   "outputs": [
    {
     "data": {
      "text/plain": [
       "3"
      ]
     },
     "execution_count": 97,
     "metadata": {},
     "output_type": "execute_result"
    }
   ],
   "source": [
    "len(l6)"
   ]
  },
  {
   "cell_type": "code",
   "execution_count": 98,
   "id": "3c013ecb-72c3-4f02-8866-08e314bd0d3f",
   "metadata": {},
   "outputs": [
    {
     "data": {
      "text/plain": [
       "['piyush', 'sudh', 2424]"
      ]
     },
     "execution_count": 98,
     "metadata": {},
     "output_type": "execute_result"
    }
   ],
   "source": [
    "l6[1]"
   ]
  },
  {
   "cell_type": "code",
   "execution_count": 100,
   "id": "66ebd835-5912-4c60-9f72-046c1f5a3f3d",
   "metadata": {},
   "outputs": [
    {
     "data": {
      "text/plain": [
       "'d'"
      ]
     },
     "execution_count": 100,
     "metadata": {},
     "output_type": "execute_result"
    }
   ],
   "source": [
    "l6[1][1][2]"
   ]
  },
  {
   "cell_type": "code",
   "execution_count": null,
   "id": "a8d0f079-c22b-4dbf-9abe-8e9c3bc373b7",
   "metadata": {},
   "outputs": [],
   "source": []
  }
 ],
 "metadata": {
  "kernelspec": {
   "display_name": "Python 3 (ipykernel)",
   "language": "python",
   "name": "python3"
  },
  "language_info": {
   "codemirror_mode": {
    "name": "ipython",
    "version": 3
   },
   "file_extension": ".py",
   "mimetype": "text/x-python",
   "name": "python",
   "nbconvert_exporter": "python",
   "pygments_lexer": "ipython3",
   "version": "3.11.4"
  }
 },
 "nbformat": 4,
 "nbformat_minor": 5
}
