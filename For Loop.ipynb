{
 "cells": [
  {
   "cell_type": "code",
   "execution_count": 1,
   "id": "7a1c6c06-e92a-40e9-b6b0-268d4411a0ff",
   "metadata": {},
   "outputs": [],
   "source": [
    "a = \"pwskills\""
   ]
  },
  {
   "cell_type": "code",
   "execution_count": 2,
   "id": "a6ab1059-31b1-4530-8ad7-7ef022303456",
   "metadata": {},
   "outputs": [
    {
     "name": "stdout",
     "output_type": "stream",
     "text": [
      "p\n",
      "w\n",
      "s\n",
      "k\n",
      "i\n",
      "l\n",
      "l\n",
      "s\n"
     ]
    }
   ],
   "source": [
    "for i in a :\n",
    "    print(i)"
   ]
  },
  {
   "cell_type": "code",
   "execution_count": 3,
   "id": "389e972c-6472-4eda-b407-ef6f94cb3c5f",
   "metadata": {},
   "outputs": [
    {
     "name": "stdout",
     "output_type": "stream",
     "text": [
      "P\n",
      "W\n",
      "S\n",
      "K\n",
      "I\n",
      "L\n",
      "L\n",
      "S\n"
     ]
    }
   ],
   "source": [
    "for i in a:\n",
    "    print(i.upper())"
   ]
  },
  {
   "cell_type": "code",
   "execution_count": 4,
   "id": "bf875f03-dfcc-4887-accb-162d5f8171ed",
   "metadata": {},
   "outputs": [
    {
     "name": "stdout",
     "output_type": "stream",
     "text": [
      "2\n",
      "3\n",
      "4\n",
      "5\n",
      "6\n",
      "7\n",
      "8\n"
     ]
    }
   ],
   "source": [
    "l = [2,3,4,5,6,7,8]\n",
    "for i in l:\n",
    "    print(i)"
   ]
  },
  {
   "cell_type": "code",
   "execution_count": 5,
   "id": "6280e3a2-e47a-4d38-9295-422b58817e2f",
   "metadata": {},
   "outputs": [
    {
     "name": "stdout",
     "output_type": "stream",
     "text": [
      "4\n",
      "5\n",
      "6\n",
      "7\n",
      "8\n",
      "9\n",
      "10\n"
     ]
    }
   ],
   "source": [
    "for i in l:\n",
    "    print(i+2)"
   ]
  },
  {
   "cell_type": "code",
   "execution_count": 6,
   "id": "638f7ffe-4f48-47bb-be43-b94d4737a0a0",
   "metadata": {},
   "outputs": [
    {
     "name": "stdout",
     "output_type": "stream",
     "text": [
      "2\n",
      "4\n",
      "6\n",
      "8\n"
     ]
    }
   ],
   "source": [
    "for i in l:\n",
    "    if i%2 == 0:\n",
    "        print(i)"
   ]
  },
  {
   "cell_type": "code",
   "execution_count": 7,
   "id": "35dcae6a-50f2-497d-b120-13aa1493218d",
   "metadata": {},
   "outputs": [
    {
     "name": "stdout",
     "output_type": "stream",
     "text": [
      "[2, 4, 6, 8]\n"
     ]
    }
   ],
   "source": [
    "l1 = []\n",
    "for i in l:\n",
    "    if i%2 == 0:\n",
    "        l1.append(i)\n",
    "print(l1)"
   ]
  },
  {
   "cell_type": "code",
   "execution_count": 8,
   "id": "86fb134c-039b-470b-b63e-a98353aaaa3a",
   "metadata": {},
   "outputs": [
    {
     "data": {
      "text/plain": [
       "[2, 3, 4, 5, 6, 7, 8]"
      ]
     },
     "execution_count": 8,
     "metadata": {},
     "output_type": "execute_result"
    }
   ],
   "source": [
    "l"
   ]
  },
  {
   "cell_type": "code",
   "execution_count": 9,
   "id": "43abbb59-036c-4a12-9212-52cb88164792",
   "metadata": {},
   "outputs": [
    {
     "name": "stdout",
     "output_type": "stream",
     "text": [
      "2\n",
      "3\n",
      "4\n",
      "5\n",
      "6\n",
      "7\n",
      "8\n",
      "This will be executed once for loop will complete itself succesfully\n"
     ]
    }
   ],
   "source": [
    "#for else is use when the for loop is fully execute the else will execute\n",
    "for i in l:\n",
    "    print(i)\n",
    "else:\n",
    "    print(\"This will be executed once for loop will complete itself succesfully\")"
   ]
  },
  {
   "cell_type": "code",
   "execution_count": 10,
   "id": "29860dd8-9b90-49d9-b3fa-07c79273cbca",
   "metadata": {},
   "outputs": [
    {
     "name": "stdout",
     "output_type": "stream",
     "text": [
      "2\n",
      "3\n",
      "4\n",
      "5\n"
     ]
    }
   ],
   "source": [
    "for i in l:\n",
    "    print(i)\n",
    "    if i == 5:\n",
    "        break\n",
    "else:\n",
    "    print(\"This will be executed once for loop will complete itself succesfully\")"
   ]
  },
  {
   "cell_type": "code",
   "execution_count": 11,
   "id": "76dae968-0169-4e87-9d22-7393895422d7",
   "metadata": {},
   "outputs": [
    {
     "data": {
      "text/plain": [
       "[2, 3, 4, 5, 6, 7, 8]"
      ]
     },
     "execution_count": 11,
     "metadata": {},
     "output_type": "execute_result"
    }
   ],
   "source": [
    "l"
   ]
  },
  {
   "cell_type": "code",
   "execution_count": 12,
   "id": "cf56db4c-54a5-4add-b00d-72bca1f30e18",
   "metadata": {},
   "outputs": [
    {
     "name": "stdout",
     "output_type": "stream",
     "text": [
      "35\n"
     ]
    }
   ],
   "source": [
    "b = 0\n",
    "for i in l:\n",
    "    b = b+i\n",
    "print(b)"
   ]
  },
  {
   "cell_type": "code",
   "execution_count": 14,
   "id": "95cc077c-92be-4c0e-bf7f-dae124a9ec27",
   "metadata": {},
   "outputs": [],
   "source": [
    "l2 = [2,3,4,5,5,'sudh1','pwskills','college wallah', 'python',455,456464,True,False]"
   ]
  },
  {
   "cell_type": "code",
   "execution_count": 15,
   "id": "dac3f6f4-803b-4ea2-9b3c-f4549ba0f2ca",
   "metadata": {},
   "outputs": [],
   "source": [
    "l_int = []\n",
    "l_str = []\n",
    "l_bool = []\n",
    "for i in l2:\n",
    "    if type(i) == int:\n",
    "        l_int.append(i)\n",
    "    elif type(i) == str:\n",
    "        l_str.append(i)\n",
    "    elif type(i) == bool:\n",
    "        l_bool.append(i)"
   ]
  },
  {
   "cell_type": "code",
   "execution_count": 18,
   "id": "9ca9126e-63a6-46ce-9e4b-ddacaccf22bc",
   "metadata": {},
   "outputs": [
    {
     "data": {
      "text/plain": [
       "[2, 3, 4, 5, 5, 455, 456464]"
      ]
     },
     "execution_count": 18,
     "metadata": {},
     "output_type": "execute_result"
    }
   ],
   "source": [
    "l_int"
   ]
  },
  {
   "cell_type": "code",
   "execution_count": 19,
   "id": "64fcf140-6c3c-4f4d-a888-bee54a09005c",
   "metadata": {},
   "outputs": [
    {
     "data": {
      "text/plain": [
       "['sudh1', 'pwskills', 'college wallah', 'python']"
      ]
     },
     "execution_count": 19,
     "metadata": {},
     "output_type": "execute_result"
    }
   ],
   "source": [
    "l_str"
   ]
  },
  {
   "cell_type": "code",
   "execution_count": 20,
   "id": "15df3bb5-1d28-4afe-8592-a23966d620c4",
   "metadata": {},
   "outputs": [
    {
     "data": {
      "text/plain": [
       "[True, False]"
      ]
     },
     "execution_count": 20,
     "metadata": {},
     "output_type": "execute_result"
    }
   ],
   "source": [
    "l_bool"
   ]
  },
  {
   "cell_type": "code",
   "execution_count": 21,
   "id": "820b7cb1-5be1-46a6-a8f4-f5e235e29d15",
   "metadata": {},
   "outputs": [],
   "source": [
    "t = (3,4,5,6,7,8,'sudh','pwskills')"
   ]
  },
  {
   "cell_type": "code",
   "execution_count": 23,
   "id": "220cbd1c-0eb8-42d8-b0b9-c9ae11f0e85f",
   "metadata": {},
   "outputs": [
    {
     "name": "stdout",
     "output_type": "stream",
     "text": [
      "3\n",
      "4\n",
      "5\n",
      "6\n",
      "7\n",
      "8\n",
      "sudh\n",
      "pwskills\n"
     ]
    }
   ],
   "source": [
    "for i in t:\n",
    "    print(i)"
   ]
  },
  {
   "cell_type": "code",
   "execution_count": 25,
   "id": "dcdd753b-2319-4438-9b7e-b255b122baec",
   "metadata": {},
   "outputs": [],
   "source": [
    "d = {'Name' : 'piyush', 'age' :20 , 'subject' : [\"DS\",\"bigdata\",\"DataAnalytics\" ,\"python\",\"programming1\"]}"
   ]
  },
  {
   "cell_type": "code",
   "execution_count": 26,
   "id": "cf6e53fa-99d0-4616-a3cf-f4df85420023",
   "metadata": {},
   "outputs": [
    {
     "data": {
      "text/plain": [
       "{'Name': 'piyush',\n",
       " 'age': 20,\n",
       " 'subject': ['DS', 'bigdata', 'DataAnalytics', 'python', 'programming1']}"
      ]
     },
     "execution_count": 26,
     "metadata": {},
     "output_type": "execute_result"
    }
   ],
   "source": [
    "d"
   ]
  },
  {
   "cell_type": "code",
   "execution_count": 27,
   "id": "b42e2202-3c52-4bb1-b64f-171905c1e8b9",
   "metadata": {},
   "outputs": [
    {
     "data": {
      "text/plain": [
       "dict_items([('Name', 'piyush'), ('age', 20), ('subject', ['DS', 'bigdata', 'DataAnalytics', 'python', 'programming1'])])"
      ]
     },
     "execution_count": 27,
     "metadata": {},
     "output_type": "execute_result"
    }
   ],
   "source": [
    "d.items()"
   ]
  },
  {
   "cell_type": "code",
   "execution_count": 28,
   "id": "7eb1ae1f-3141-4f8f-8b56-a60b613b89d9",
   "metadata": {},
   "outputs": [
    {
     "name": "stdout",
     "output_type": "stream",
     "text": [
      "('Name', 'piyush')\n",
      "('age', 20)\n",
      "('subject', ['DS', 'bigdata', 'DataAnalytics', 'python', 'programming1'])\n"
     ]
    }
   ],
   "source": [
    "for i in d.items():\n",
    "    print(i)"
   ]
  },
  {
   "cell_type": "code",
   "execution_count": 29,
   "id": "8dffc9cd-2348-4edd-9f61-5edf60620c29",
   "metadata": {},
   "outputs": [
    {
     "name": "stdout",
     "output_type": "stream",
     "text": [
      "Name\n",
      "age\n",
      "subject\n"
     ]
    }
   ],
   "source": [
    "for i in d.keys():\n",
    "    print(i)"
   ]
  },
  {
   "cell_type": "code",
   "execution_count": 31,
   "id": "208e6f43-4e36-4cc2-bb4b-a9a4be97f482",
   "metadata": {},
   "outputs": [
    {
     "name": "stdout",
     "output_type": "stream",
     "text": [
      "piyush\n",
      "20\n",
      "['DS', 'bigdata', 'DataAnalytics', 'python', 'programming1']\n"
     ]
    }
   ],
   "source": [
    "for i in d.values():\n",
    "    print(i)"
   ]
  },
  {
   "cell_type": "code",
   "execution_count": 32,
   "id": "0f01d516-19f5-4760-b951-df96bc66993d",
   "metadata": {},
   "outputs": [
    {
     "name": "stdout",
     "output_type": "stream",
     "text": [
      "['DS', 'bigdata', 'DataAnalytics', 'python', 'programming1']\n"
     ]
    }
   ],
   "source": [
    "for i in d.values():\n",
    "    if type(i) == list:\n",
    "        print(i)"
   ]
  },
  {
   "cell_type": "code",
   "execution_count": 33,
   "id": "e99f5f91-c04a-490e-a4a6-14921f5960eb",
   "metadata": {},
   "outputs": [
    {
     "name": "stdout",
     "output_type": "stream",
     "text": [
      "True\n"
     ]
    }
   ],
   "source": [
    "for i in d.values():\n",
    "    if type(i) == list:\n",
    "        print('bigdata' in i)    "
   ]
  },
  {
   "cell_type": "code",
   "execution_count": null,
   "id": "c0daa1f6-4894-4ba5-8859-9f361be5d23e",
   "metadata": {},
   "outputs": [],
   "source": []
  }
 ],
 "metadata": {
  "kernelspec": {
   "display_name": "Python 3 (ipykernel)",
   "language": "python",
   "name": "python3"
  },
  "language_info": {
   "codemirror_mode": {
    "name": "ipython",
    "version": 3
   },
   "file_extension": ".py",
   "mimetype": "text/x-python",
   "name": "python",
   "nbconvert_exporter": "python",
   "pygments_lexer": "ipython3",
   "version": "3.11.4"
  }
 },
 "nbformat": 4,
 "nbformat_minor": 5
}
