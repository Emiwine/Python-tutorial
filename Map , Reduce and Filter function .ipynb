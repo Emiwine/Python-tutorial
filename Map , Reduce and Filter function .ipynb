{
 "cells": [
  {
   "cell_type": "code",
   "execution_count": 3,
   "id": "7db414bb-efe3-4285-9289-15be33ae971b",
   "metadata": {},
   "outputs": [],
   "source": [
    "l  = [2,3,4,5,6]"
   ]
  },
  {
   "cell_type": "code",
   "execution_count": 4,
   "id": "9b302791-6ef0-4946-9474-e5ded9bb1df3",
   "metadata": {},
   "outputs": [],
   "source": [
    "def test(l):\n",
    "    l1 = []\n",
    "    for i in l:\n",
    "        l1.append(i**2)\n",
    "    return l1"
   ]
  },
  {
   "cell_type": "code",
   "execution_count": 5,
   "id": "464622cc-1a8b-481f-98d9-cfc7991575b2",
   "metadata": {},
   "outputs": [
    {
     "data": {
      "text/plain": [
       "[4, 9, 16, 25, 36]"
      ]
     },
     "execution_count": 5,
     "metadata": {},
     "output_type": "execute_result"
    }
   ],
   "source": [
    "test(l)"
   ]
  },
  {
   "cell_type": "code",
   "execution_count": 6,
   "id": "927928f0-e6de-4477-923d-860824d68059",
   "metadata": {},
   "outputs": [],
   "source": [
    "def sq(x):\n",
    "    return x**2  #if we have the complex and the big function logic the define the function  "
   ]
  },
  {
   "cell_type": "code",
   "execution_count": 7,
   "id": "d5722e13-7841-49d5-a3eb-7914b1bb1714",
   "metadata": {},
   "outputs": [
    {
     "data": {
      "text/plain": [
       "<map at 0x12e3bf13df0>"
      ]
     },
     "execution_count": 7,
     "metadata": {},
     "output_type": "execute_result"
    }
   ],
   "source": [
    "map(sq , l) #map is just as the mapper that give us the outcome "
   ]
  },
  {
   "cell_type": "code",
   "execution_count": 8,
   "id": "c6a63dcb-f139-450f-9623-99082313e749",
   "metadata": {},
   "outputs": [
    {
     "data": {
      "text/plain": [
       "[4, 9, 16, 25, 36]"
      ]
     },
     "execution_count": 8,
     "metadata": {},
     "output_type": "execute_result"
    }
   ],
   "source": [
    "list(map(sq , l))"
   ]
  },
  {
   "cell_type": "code",
   "execution_count": 9,
   "id": "8d443329-b4dc-4f77-9b8e-b2310362a742",
   "metadata": {},
   "outputs": [
    {
     "data": {
      "text/plain": [
       "[4, 9, 16, 25, 36]"
      ]
     },
     "execution_count": 9,
     "metadata": {},
     "output_type": "execute_result"
    }
   ],
   "source": [
    "#but if we want to build the small logic then you use lambda function\n",
    "list(map(lambda x: x**2 , l)) "
   ]
  },
  {
   "cell_type": "code",
   "execution_count": 10,
   "id": "054a3bc3-1c26-458f-8769-f696f11bcba4",
   "metadata": {},
   "outputs": [
    {
     "data": {
      "text/plain": [
       "[7, 9, 11, 13, 15]"
      ]
     },
     "execution_count": 10,
     "metadata": {},
     "output_type": "execute_result"
    }
   ],
   "source": [
    "l1 = [1,2,3,4,5]\n",
    "l2 = [6,7,8,9,10]\n",
    "#here we used to add the element wuth there indexes \n",
    "list(map(lambda x , y :x+y ,l1,l2))"
   ]
  },
  {
   "cell_type": "code",
   "execution_count": 11,
   "id": "a33d269a-1456-4b3f-b67b-52d80f186c57",
   "metadata": {},
   "outputs": [],
   "source": [
    "def add(x,y):\n",
    "    return x + y"
   ]
  },
  {
   "cell_type": "code",
   "execution_count": 12,
   "id": "3a0f4977-140c-4a80-ad5e-0289513131b8",
   "metadata": {},
   "outputs": [
    {
     "data": {
      "text/plain": [
       "[7, 9, 11, 13, 15]"
      ]
     },
     "execution_count": 12,
     "metadata": {},
     "output_type": "execute_result"
    }
   ],
   "source": [
    "list(map(add , l1,l2))"
   ]
  },
  {
   "cell_type": "code",
   "execution_count": 13,
   "id": "167d2a1d-4caa-4cfd-bd45-f758688a2ac6",
   "metadata": {},
   "outputs": [
    {
     "name": "stdout",
     "output_type": "stream",
     "text": [
      "PWSKILLS\n"
     ]
    }
   ],
   "source": [
    "s = 'pwskills'\n",
    "print(s.upper())\n"
   ]
  },
  {
   "cell_type": "code",
   "execution_count": 14,
   "id": "f76fd654-5626-4156-a5d0-e39da5dce355",
   "metadata": {},
   "outputs": [
    {
     "data": {
      "text/plain": [
       "['P', 'W', 'S', 'K', 'I', 'L', 'L', 'S']"
      ]
     },
     "execution_count": 14,
     "metadata": {},
     "output_type": "execute_result"
    }
   ],
   "source": [
    "list(map(lambda s: s.upper() , s)) "
   ]
  },
  {
   "cell_type": "markdown",
   "id": "56f1f5a4-0daf-451c-a531-e63693eaeb77",
   "metadata": {},
   "source": [
    "REDUCE"
   ]
  },
  {
   "cell_type": "code",
   "execution_count": 15,
   "id": "55f95d8a-3fe3-4b9c-86d1-aa69e520a37c",
   "metadata": {},
   "outputs": [],
   "source": [
    "from functools import reduce \n",
    "#reduce is basically reduce the element one by one in the list"
   ]
  },
  {
   "cell_type": "code",
   "execution_count": 16,
   "id": "365bb767-9431-49e2-b0e1-94a85ca3c37c",
   "metadata": {},
   "outputs": [],
   "source": [
    "l = [1,2,3,4,5]"
   ]
  },
  {
   "cell_type": "code",
   "execution_count": 17,
   "id": "a54756ce-99d7-442f-8098-34e17b04bc1c",
   "metadata": {},
   "outputs": [
    {
     "data": {
      "text/plain": [
       "15"
      ]
     },
     "execution_count": 17,
     "metadata": {},
     "output_type": "execute_result"
    }
   ],
   "source": [
    "reduce(lambda x,y : x+y ,l)"
   ]
  },
  {
   "cell_type": "code",
   "execution_count": 18,
   "id": "b83d6523-6ba4-4892-9ea2-f0cea4ca99a4",
   "metadata": {},
   "outputs": [
    {
     "ename": "TypeError",
     "evalue": "<lambda>() missing 1 required positional argument: 'z'",
     "output_type": "error",
     "traceback": [
      "\u001b[1;31m---------------------------------------------------------------------------\u001b[0m",
      "\u001b[1;31mTypeError\u001b[0m                                 Traceback (most recent call last)",
      "Cell \u001b[1;32mIn[18], line 3\u001b[0m\n\u001b[0;32m      1\u001b[0m \u001b[38;5;124;03m\"\"\"Always take only two parameter in the function because the data is always present with two\u001b[39;00m\n\u001b[0;32m      2\u001b[0m \u001b[38;5;124;03m parameter , dont take more than two parameter in the function\"\"\"\u001b[39;00m\n\u001b[1;32m----> 3\u001b[0m \u001b[43mreduce\u001b[49m\u001b[43m(\u001b[49m\u001b[38;5;28;43;01mlambda\u001b[39;49;00m\u001b[43m \u001b[49m\u001b[43mx\u001b[49m\u001b[43m,\u001b[49m\u001b[43my\u001b[49m\u001b[43m,\u001b[49m\u001b[43mz\u001b[49m\u001b[43m \u001b[49m\u001b[43m:\u001b[49m\u001b[43m \u001b[49m\u001b[43mx\u001b[49m\u001b[38;5;241;43m+\u001b[39;49m\u001b[43my\u001b[49m\u001b[38;5;241;43m+\u001b[39;49m\u001b[43mz\u001b[49m\u001b[43m \u001b[49m\u001b[43m,\u001b[49m\u001b[43ml\u001b[49m\u001b[43m)\u001b[49m\n",
      "\u001b[1;31mTypeError\u001b[0m: <lambda>() missing 1 required positional argument: 'z'"
     ]
    }
   ],
   "source": [
    "\"\"\"Always take only two parameter in the function because the data is always present with two\n",
    " parameter , dont take more than two parameter in the function\"\"\"\n",
    "reduce(lambda x,y,z : x+y+z ,l)"
   ]
  },
  {
   "cell_type": "code",
   "execution_count": null,
   "id": "56e79ddd-3c74-4932-9172-414c134a176a",
   "metadata": {},
   "outputs": [],
   "source": [
    "reduce(lambda x,y : x+y ,[])"
   ]
  },
  {
   "cell_type": "code",
   "execution_count": 19,
   "id": "57838c0e-f827-49e8-b983-ed60f919b805",
   "metadata": {},
   "outputs": [
    {
     "data": {
      "text/plain": [
       "1"
      ]
     },
     "execution_count": 19,
     "metadata": {},
     "output_type": "execute_result"
    }
   ],
   "source": [
    "reduce(lambda x,y : x+y ,[1]) "
   ]
  },
  {
   "cell_type": "code",
   "execution_count": 20,
   "id": "eb14f06f-ef90-4344-9a21-2a5b1d84f327",
   "metadata": {},
   "outputs": [
    {
     "data": {
      "text/plain": [
       "120"
      ]
     },
     "execution_count": 20,
     "metadata": {},
     "output_type": "execute_result"
    }
   ],
   "source": [
    "reduce(lambda x,y : x*y ,l)"
   ]
  },
  {
   "cell_type": "code",
   "execution_count": 21,
   "id": "9973f0a1-a5c8-42c8-b153-e7eb57909894",
   "metadata": {},
   "outputs": [
    {
     "data": {
      "text/plain": [
       "[1, 2, 3, 4, 5]"
      ]
     },
     "execution_count": 21,
     "metadata": {},
     "output_type": "execute_result"
    }
   ],
   "source": [
    "l"
   ]
  },
  {
   "cell_type": "code",
   "execution_count": 23,
   "id": "13d99786-ed7d-4dff-ae4b-f37c6b12b4d0",
   "metadata": {},
   "outputs": [
    {
     "data": {
      "text/plain": [
       "5"
      ]
     },
     "execution_count": 23,
     "metadata": {},
     "output_type": "execute_result"
    }
   ],
   "source": [
    "reduce(lambda x,y: x if x>y else y , l) #here we find the maximum in the list "
   ]
  },
  {
   "cell_type": "code",
   "execution_count": 24,
   "id": "447b11ca-3ae5-4816-8dc3-78b2c6b735e4",
   "metadata": {},
   "outputs": [
    {
     "data": {
      "text/plain": [
       "[2, 4]"
      ]
     },
     "execution_count": 24,
     "metadata": {},
     "output_type": "execute_result"
    }
   ],
   "source": [
    "list(filter(lambda x : x% 2 == 0 ,l))"
   ]
  },
  {
   "cell_type": "code",
   "execution_count": 26,
   "id": "00f4a83a-3cb8-4eaf-90f3-b7c430b32a81",
   "metadata": {},
   "outputs": [
    {
     "data": {
      "text/plain": [
       "[1, 3, 5]"
      ]
     },
     "execution_count": 26,
     "metadata": {},
     "output_type": "execute_result"
    }
   ],
   "source": [
    "list(filter(lambda x : x%2 != 0 , l))"
   ]
  },
  {
   "cell_type": "code",
   "execution_count": 27,
   "id": "799339d3-dc7b-4129-a364-ec8f8aa59b9c",
   "metadata": {},
   "outputs": [],
   "source": [
    "l1 = [-3,4,5,6,-1,5]"
   ]
  },
  {
   "cell_type": "code",
   "execution_count": 30,
   "id": "54b9e0f6-1a4f-4d0f-9f66-89f38bfad24b",
   "metadata": {},
   "outputs": [
    {
     "data": {
      "text/plain": [
       "[-3, -1]"
      ]
     },
     "execution_count": 30,
     "metadata": {},
     "output_type": "execute_result"
    }
   ],
   "source": [
    "list(filter(lambda x : x<0 ,l1))"
   ]
  },
  {
   "cell_type": "code",
   "execution_count": 31,
   "id": "c50f7644-b3fd-47a0-916d-e5e374cd76c3",
   "metadata": {},
   "outputs": [],
   "source": [
    "l2 = ['piyush','kumar','jha', 'bangalore','krish']"
   ]
  },
  {
   "cell_type": "code",
   "execution_count": 35,
   "id": "192de341-c8f4-4cd0-b6eb-d61062eccc8b",
   "metadata": {},
   "outputs": [
    {
     "data": {
      "text/plain": [
       "['kumar', 'jha', 'krish']"
      ]
     },
     "execution_count": 35,
     "metadata": {},
     "output_type": "execute_result"
    }
   ],
   "source": [
    "list(filter(lambda x: len(x) < 6 ,l2))"
   ]
  },
  {
   "cell_type": "code",
   "execution_count": null,
   "id": "470b7998-3256-4412-b088-ec465fd3c844",
   "metadata": {},
   "outputs": [],
   "source": []
  }
 ],
 "metadata": {
  "kernelspec": {
   "display_name": "Python 3 (ipykernel)",
   "language": "python",
   "name": "python3"
  },
  "language_info": {
   "codemirror_mode": {
    "name": "ipython",
    "version": 3
   },
   "file_extension": ".py",
   "mimetype": "text/x-python",
   "name": "python",
   "nbconvert_exporter": "python",
   "pygments_lexer": "ipython3",
   "version": "3.11.4"
  }
 },
 "nbformat": 4,
 "nbformat_minor": 5
}
