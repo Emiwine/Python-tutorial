{
 "cells": [
  {
   "cell_type": "code",
   "execution_count": 1,
   "id": "a65cba15-742c-4464-8f95-5ebcbf92852e",
   "metadata": {},
   "outputs": [],
   "source": [
    "t= ()"
   ]
  },
  {
   "cell_type": "code",
   "execution_count": 2,
   "id": "6abd8cf9-d60c-47e3-a743-b11c064d60ad",
   "metadata": {},
   "outputs": [
    {
     "data": {
      "text/plain": [
       "tuple"
      ]
     },
     "execution_count": 2,
     "metadata": {},
     "output_type": "execute_result"
    }
   ],
   "source": [
    "type(t)"
   ]
  },
  {
   "cell_type": "code",
   "execution_count": 3,
   "id": "df211a4b-3575-4a2a-8ba6-d8ea705e0417",
   "metadata": {},
   "outputs": [],
   "source": [
    "t1 = (1,2,3,4,5,'piyush',True,5+6j)"
   ]
  },
  {
   "cell_type": "code",
   "execution_count": 4,
   "id": "963b05a1-d2c5-48dc-93b8-ef249ec8991d",
   "metadata": {},
   "outputs": [
    {
     "data": {
      "text/plain": [
       "(1, 2, 3, 4, 5, 'piyush', True, (5+6j))"
      ]
     },
     "execution_count": 4,
     "metadata": {},
     "output_type": "execute_result"
    }
   ],
   "source": [
    "t1"
   ]
  },
  {
   "cell_type": "code",
   "execution_count": 5,
   "id": "45115e34-b4bc-44e9-ba73-74d792f7cd36",
   "metadata": {},
   "outputs": [],
   "source": [
    "l = [1,2,3,4,5,'piyush',True,5+6j]"
   ]
  },
  {
   "cell_type": "code",
   "execution_count": 6,
   "id": "f4ff76ce-acc1-4c4f-849e-247990fad643",
   "metadata": {},
   "outputs": [
    {
     "data": {
      "text/plain": [
       "list"
      ]
     },
     "execution_count": 6,
     "metadata": {},
     "output_type": "execute_result"
    }
   ],
   "source": [
    "type(l)"
   ]
  },
  {
   "cell_type": "code",
   "execution_count": 7,
   "id": "74fc77b6-1c4a-4bef-970d-dfcaf27906a6",
   "metadata": {},
   "outputs": [
    {
     "data": {
      "text/plain": [
       "tuple"
      ]
     },
     "execution_count": 7,
     "metadata": {},
     "output_type": "execute_result"
    }
   ],
   "source": [
    "type(t1)"
   ]
  },
  {
   "cell_type": "code",
   "execution_count": 10,
   "id": "3421780e-0597-40cc-b070-d6813f21e5dd",
   "metadata": {},
   "outputs": [
    {
     "data": {
      "text/plain": [
       "'piyush'"
      ]
     },
     "execution_count": 10,
     "metadata": {},
     "output_type": "execute_result"
    }
   ],
   "source": [
    "t1[5]"
   ]
  },
  {
   "cell_type": "code",
   "execution_count": 11,
   "id": "acf9ee85-9eb6-4c0f-9e85-5be6c91ef942",
   "metadata": {},
   "outputs": [
    {
     "data": {
      "text/plain": [
       "'piyush'"
      ]
     },
     "execution_count": 11,
     "metadata": {},
     "output_type": "execute_result"
    }
   ],
   "source": [
    "l[5]"
   ]
  },
  {
   "cell_type": "code",
   "execution_count": 12,
   "id": "f1184694-1e30-4ec1-a829-762165f782eb",
   "metadata": {},
   "outputs": [
    {
     "ename": "TypeError",
     "evalue": "'tuple' object does not support item assignment",
     "output_type": "error",
     "traceback": [
      "\u001b[1;31m---------------------------------------------------------------------------\u001b[0m",
      "\u001b[1;31mTypeError\u001b[0m                                 Traceback (most recent call last)",
      "Cell \u001b[1;32mIn[12], line 1\u001b[0m\n\u001b[1;32m----> 1\u001b[0m \u001b[43mt1\u001b[49m\u001b[43m[\u001b[49m\u001b[38;5;241;43m5\u001b[39;49m\u001b[43m]\u001b[49m \u001b[38;5;241m=\u001b[39m \u001b[38;5;124m'\u001b[39m\u001b[38;5;124mPwskills\u001b[39m\u001b[38;5;124m'\u001b[39m\n",
      "\u001b[1;31mTypeError\u001b[0m: 'tuple' object does not support item assignment"
     ]
    }
   ],
   "source": [
    "t1[5] = 'Pwskills' #tuples is immutable so, we can't assign the value int the tuples\n",
    "#tuple are the immmutable entity"
   ]
  },
  {
   "cell_type": "code",
   "execution_count": 14,
   "id": "3682f813-3ca9-4847-92a3-6d09bf7e135e",
   "metadata": {},
   "outputs": [],
   "source": [
    "l[5] = 'pwskils'\n",
    "#list are the mutable entity"
   ]
  },
  {
   "cell_type": "code",
   "execution_count": 15,
   "id": "59daa9ce-f82e-43e7-ba78-14e2b4fb3d8d",
   "metadata": {},
   "outputs": [
    {
     "data": {
      "text/plain": [
       "[1, 2, 3, 4, 5, 'pwskils', True, (5+6j)]"
      ]
     },
     "execution_count": 15,
     "metadata": {},
     "output_type": "execute_result"
    }
   ],
   "source": [
    "l"
   ]
  },
  {
   "cell_type": "code",
   "execution_count": 16,
   "id": "d64bd5ca-2020-40d9-8ada-cac1242ff503",
   "metadata": {},
   "outputs": [
    {
     "data": {
      "text/plain": [
       "[1, 2, 3, 4, 5, 'piyush', True, (5+6j)]"
      ]
     },
     "execution_count": 16,
     "metadata": {},
     "output_type": "execute_result"
    }
   ],
   "source": [
    "l1 = list(t1)  #list to tuples"
   ]
  },
  {
   "cell_type": "code",
   "execution_count": 19,
   "id": "bd0dcf00-a3ed-4104-a7a9-9878de763fe3",
   "metadata": {},
   "outputs": [
    {
     "data": {
      "text/plain": [
       "1"
      ]
     },
     "execution_count": 19,
     "metadata": {},
     "output_type": "execute_result"
    }
   ],
   "source": [
    " t1.count(5)  #count returns the occurence of the value in the tuple"
   ]
  },
  {
   "cell_type": "code",
   "execution_count": 20,
   "id": "5ae5f380-e7c3-4be8-bf2b-753af0ef51ad",
   "metadata": {},
   "outputs": [
    {
     "data": {
      "text/plain": [
       "5"
      ]
     },
     "execution_count": 20,
     "metadata": {},
     "output_type": "execute_result"
    }
   ],
   "source": [
    "t1.index('piyush')"
   ]
  },
  {
   "cell_type": "code",
   "execution_count": 21,
   "id": "579f4ed6-0907-4022-a458-a5d1ed082dea",
   "metadata": {},
   "outputs": [],
   "source": [
    "t2 = (\"sudh\",3,2,6,7,89,65,4,6,8,\"sudh\")"
   ]
  },
  {
   "cell_type": "code",
   "execution_count": 23,
   "id": "d3b1fdfd-bc87-4c7c-bd3b-dab7d0bd809d",
   "metadata": {},
   "outputs": [
    {
     "data": {
      "text/plain": [
       "0"
      ]
     },
     "execution_count": 23,
     "metadata": {},
     "output_type": "execute_result"
    }
   ],
   "source": [
    "t2.index(\"sudh\")"
   ]
  },
  {
   "cell_type": "code",
   "execution_count": 24,
   "id": "e6e20b67-54c5-4ec7-b550-41ec4e455679",
   "metadata": {},
   "outputs": [
    {
     "data": {
      "text/plain": [
       "3"
      ]
     },
     "execution_count": 24,
     "metadata": {},
     "output_type": "execute_result"
    }
   ],
   "source": [
    "t2.index(6)"
   ]
  },
  {
   "cell_type": "code",
   "execution_count": 27,
   "id": "fcd211b5-3281-430d-b8e5-9dd89e6a3c1b",
   "metadata": {},
   "outputs": [],
   "source": [
    "t3 = (2,3,8,6,7,6)"
   ]
  },
  {
   "cell_type": "code",
   "execution_count": 28,
   "id": "ba3c4300-dc69-4409-802a-3c7f7c2dfd33",
   "metadata": {},
   "outputs": [
    {
     "data": {
      "text/plain": [
       "2"
      ]
     },
     "execution_count": 28,
     "metadata": {},
     "output_type": "execute_result"
    }
   ],
   "source": [
    "min(t3)"
   ]
  },
  {
   "cell_type": "code",
   "execution_count": 29,
   "id": "bea6cec0-2cf9-4d72-9455-7549416f147d",
   "metadata": {},
   "outputs": [
    {
     "data": {
      "text/plain": [
       "8"
      ]
     },
     "execution_count": 29,
     "metadata": {},
     "output_type": "execute_result"
    }
   ],
   "source": [
    "max(t3)"
   ]
  },
  {
   "cell_type": "code",
   "execution_count": 30,
   "id": "983e3a1a-b733-4c7e-9dba-7574a45e0191",
   "metadata": {},
   "outputs": [
    {
     "data": {
      "text/plain": [
       "6"
      ]
     },
     "execution_count": 30,
     "metadata": {},
     "output_type": "execute_result"
    }
   ],
   "source": [
    "len(t3)"
   ]
  },
  {
   "cell_type": "code",
   "execution_count": 31,
   "id": "e4663af6-d593-419d-929d-1775e34f211f",
   "metadata": {},
   "outputs": [
    {
     "data": {
      "text/plain": [
       "8"
      ]
     },
     "execution_count": 31,
     "metadata": {},
     "output_type": "execute_result"
    }
   ],
   "source": [
    "len(t1)"
   ]
  },
  {
   "cell_type": "code",
   "execution_count": null,
   "id": "defa621c-90f0-45a1-a25a-addef9f6e70b",
   "metadata": {},
   "outputs": [],
   "source": []
  }
 ],
 "metadata": {
  "kernelspec": {
   "display_name": "Python 3 (ipykernel)",
   "language": "python",
   "name": "python3"
  },
  "language_info": {
   "codemirror_mode": {
    "name": "ipython",
    "version": 3
   },
   "file_extension": ".py",
   "mimetype": "text/x-python",
   "name": "python",
   "nbconvert_exporter": "python",
   "pygments_lexer": "ipython3",
   "version": "3.11.4"
  }
 },
 "nbformat": 4,
 "nbformat_minor": 5
}
