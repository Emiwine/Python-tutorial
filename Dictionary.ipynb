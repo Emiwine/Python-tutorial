{
 "cells": [
  {
   "cell_type": "code",
   "execution_count": 1,
   "id": "e1bd665f-226f-49d2-934f-c6ba3b5d771b",
   "metadata": {},
   "outputs": [],
   "source": [
    "s = {}\n",
    "#we use curly braces in both set and dictionary "
   ]
  },
  {
   "cell_type": "code",
   "execution_count": 2,
   "id": "9b3dc7a7-fb0f-4452-9412-39158035b898",
   "metadata": {},
   "outputs": [
    {
     "data": {
      "text/plain": [
       "dict"
      ]
     },
     "execution_count": 2,
     "metadata": {},
     "output_type": "execute_result"
    }
   ],
   "source": [
    "type(s) "
   ]
  },
  {
   "cell_type": "code",
   "execution_count": 3,
   "id": "8d33b17c-6374-417c-a0c1-81721971eb2f",
   "metadata": {},
   "outputs": [],
   "source": [
    "s = {1,3,65,3}"
   ]
  },
  {
   "cell_type": "code",
   "execution_count": 5,
   "id": "fbcf0cc5-72e3-4892-a87f-e3f6eb77ddaf",
   "metadata": {},
   "outputs": [
    {
     "data": {
      "text/plain": [
       "set"
      ]
     },
     "execution_count": 5,
     "metadata": {},
     "output_type": "execute_result"
    }
   ],
   "source": [
    "type(s)"
   ]
  },
  {
   "cell_type": "code",
   "execution_count": 6,
   "id": "6af67416-ac5c-4e5a-9067-00d3d2e2eae7",
   "metadata": {},
   "outputs": [],
   "source": [
    "d = {}"
   ]
  },
  {
   "cell_type": "code",
   "execution_count": 7,
   "id": "85f4267d-7e0b-48b8-9928-ab28805b15b7",
   "metadata": {},
   "outputs": [
    {
     "data": {
      "text/plain": [
       "dict"
      ]
     },
     "execution_count": 7,
     "metadata": {},
     "output_type": "execute_result"
    }
   ],
   "source": [
    "type(d)"
   ]
  },
  {
   "cell_type": "code",
   "execution_count": 13,
   "id": "4e97452f-8aa3-4cd2-b8fe-817f2d617c93",
   "metadata": {},
   "outputs": [],
   "source": [
    "d= {'a':1 } #here 'a' is a key and 1 is the value "
   ]
  },
  {
   "cell_type": "code",
   "execution_count": 14,
   "id": "3d6519dc-4fe9-4795-8dd9-44c50b34c1c4",
   "metadata": {},
   "outputs": [
    {
     "data": {
      "text/plain": [
       "dict"
      ]
     },
     "execution_count": 14,
     "metadata": {},
     "output_type": "execute_result"
    }
   ],
   "source": [
    "type(d)"
   ]
  },
  {
   "cell_type": "code",
   "execution_count": 15,
   "id": "220290f3-cbd7-4540-8f0f-2509652d9f14",
   "metadata": {},
   "outputs": [
    {
     "data": {
      "text/plain": [
       "1"
      ]
     },
     "execution_count": 15,
     "metadata": {},
     "output_type": "execute_result"
    }
   ],
   "source": [
    "a"
   ]
  },
  {
   "cell_type": "code",
   "execution_count": 16,
   "id": "0ea4511d-5cf1-4daf-9800-fdb9dd9a169b",
   "metadata": {},
   "outputs": [
    {
     "data": {
      "text/plain": [
       "{'a': 1}"
      ]
     },
     "execution_count": 16,
     "metadata": {},
     "output_type": "execute_result"
    }
   ],
   "source": [
    "d"
   ]
  },
  {
   "cell_type": "code",
   "execution_count": 17,
   "id": "92dfdab0-c71b-44cf-8b87-f9142979a3f9",
   "metadata": {},
   "outputs": [],
   "source": [
    "d = {'name' : 'piyush'}"
   ]
  },
  {
   "cell_type": "code",
   "execution_count": 18,
   "id": "13486aa1-228e-4409-bb83-7228f7060d3f",
   "metadata": {},
   "outputs": [
    {
     "data": {
      "text/plain": [
       "{'name': 'piyush'}"
      ]
     },
     "execution_count": 18,
     "metadata": {},
     "output_type": "execute_result"
    }
   ],
   "source": [
    "d"
   ]
  },
  {
   "cell_type": "code",
   "execution_count": 19,
   "id": "38f3182a-f220-48f7-9b47-662e251e598f",
   "metadata": {},
   "outputs": [
    {
     "data": {
      "text/plain": [
       "'piyush'"
      ]
     },
     "execution_count": 19,
     "metadata": {},
     "output_type": "execute_result"
    }
   ],
   "source": [
    "d['name']"
   ]
  },
  {
   "cell_type": "code",
   "execution_count": 20,
   "id": "b518872d-b4ab-427c-ac1a-576e8e9e4233",
   "metadata": {},
   "outputs": [],
   "source": [
    "d2 = {335135 :'piyush'}"
   ]
  },
  {
   "cell_type": "code",
   "execution_count": 21,
   "id": "a6356bff-78fe-4443-bf9f-2faada7279a9",
   "metadata": {},
   "outputs": [
    {
     "data": {
      "text/plain": [
       "'piyush'"
      ]
     },
     "execution_count": 21,
     "metadata": {},
     "output_type": "execute_result"
    }
   ],
   "source": [
    "d2[335135]"
   ]
  },
  {
   "cell_type": "code",
   "execution_count": 22,
   "id": "cf996771-80d7-4009-a6c1-ad94b5b035d1",
   "metadata": {},
   "outputs": [
    {
     "ename": "SyntaxError",
     "evalue": "incomplete input (318219197.py, line 1)",
     "output_type": "error",
     "traceback": [
      "\u001b[1;36m  Cell \u001b[1;32mIn[22], line 1\u001b[1;36m\u001b[0m\n\u001b[1;33m    d3 = {#335135 :'piyush'}\u001b[0m\n\u001b[1;37m                            ^\u001b[0m\n\u001b[1;31mSyntaxError\u001b[0m\u001b[1;31m:\u001b[0m incomplete input\n"
     ]
    }
   ],
   "source": [
    "d3 = {@335135 :'piyush'} #we can not start the the key name as the special case"
   ]
  },
  {
   "cell_type": "code",
   "execution_count": 23,
   "id": "b76a8f57-6c26-4be3-bf05-67e3ab6474b3",
   "metadata": {},
   "outputs": [
    {
     "ename": "TypeError",
     "evalue": "unhashable type: 'list'",
     "output_type": "error",
     "traceback": [
      "\u001b[1;31m---------------------------------------------------------------------------\u001b[0m",
      "\u001b[1;31mTypeError\u001b[0m                                 Traceback (most recent call last)",
      "Cell \u001b[1;32mIn[23], line 1\u001b[0m\n\u001b[1;32m----> 1\u001b[0m d4 \u001b[38;5;241m=\u001b[39m {[\u001b[38;5;241m1\u001b[39m,\u001b[38;5;241m2\u001b[39m,\u001b[38;5;241m3\u001b[39m],\u001b[38;5;124m'\u001b[39m\u001b[38;5;124mpiyush\u001b[39m\u001b[38;5;124m'\u001b[39m}\n",
      "\u001b[1;31mTypeError\u001b[0m: unhashable type: 'list'"
     ]
    }
   ],
   "source": [
    "d4 = {[1,2,3],'piyush'}"
   ]
  },
  {
   "cell_type": "code",
   "execution_count": 24,
   "id": "0e7ab350-ba6c-4910-aed1-f61d0b693b44",
   "metadata": {},
   "outputs": [],
   "source": [
    "d5 = {(1,2,3),'piyush'}"
   ]
  },
  {
   "cell_type": "code",
   "execution_count": 26,
   "id": "459168da-c73f-42d7-aa7e-dda7200f0c86",
   "metadata": {},
   "outputs": [
    {
     "data": {
      "text/plain": [
       "{(1, 2, 3), 'piyush'}"
      ]
     },
     "execution_count": 26,
     "metadata": {},
     "output_type": "execute_result"
    }
   ],
   "source": [
    "d5"
   ]
  },
  {
   "cell_type": "code",
   "execution_count": 27,
   "id": "d78d928e-3589-4851-87f5-6482154d87d2",
   "metadata": {},
   "outputs": [],
   "source": [
    "d5 = {(1,2,3):'piyush'}"
   ]
  },
  {
   "cell_type": "code",
   "execution_count": 30,
   "id": "c6b2e77b-442f-492d-95a4-a232c51bd441",
   "metadata": {},
   "outputs": [
    {
     "data": {
      "text/plain": [
       "'piyush'"
      ]
     },
     "execution_count": 30,
     "metadata": {},
     "output_type": "execute_result"
    }
   ],
   "source": [
    "d5[(1,2,3)]"
   ]
  },
  {
   "cell_type": "code",
   "execution_count": 31,
   "id": "0a7b2012-e2b0-40a9-a587-e903040d4ee7",
   "metadata": {},
   "outputs": [],
   "source": [
    "d6 = {True:'Piyush'}"
   ]
  },
  {
   "cell_type": "code",
   "execution_count": 32,
   "id": "7da1b1d4-120c-41cb-834d-96de9378165f",
   "metadata": {},
   "outputs": [
    {
     "data": {
      "text/plain": [
       "'Piyush'"
      ]
     },
     "execution_count": 32,
     "metadata": {},
     "output_type": "execute_result"
    }
   ],
   "source": [
    "d6[True]"
   ]
  },
  {
   "cell_type": "code",
   "execution_count": 39,
   "id": "81e539ef-b9d5-4021-9952-926ba4bfdc02",
   "metadata": {},
   "outputs": [],
   "source": [
    "d7 = {'name' : 'pwskills' , 'name' : 'piyush'}"
   ]
  },
  {
   "cell_type": "code",
   "execution_count": 40,
   "id": "48be64f5-5d05-4697-9692-dfc72a41c46f",
   "metadata": {},
   "outputs": [
    {
     "data": {
      "text/plain": [
       "'piyush'"
      ]
     },
     "execution_count": 40,
     "metadata": {},
     "output_type": "execute_result"
    }
   ],
   "source": [
    "d7['name']"
   ]
  },
  {
   "cell_type": "code",
   "execution_count": 41,
   "id": "1d1d4fd8-3acf-4214-b12c-693316a2f602",
   "metadata": {},
   "outputs": [],
   "source": [
    "d8 = {'name' : 'piyush','email_id' : \"Piyush@gmail.com\" , \"subject\" : ['DS','Dsa', 'data analytics']}"
   ]
  },
  {
   "cell_type": "code",
   "execution_count": 42,
   "id": "527803cc-3b93-4dd1-af0a-77d4e2fc9ba9",
   "metadata": {},
   "outputs": [
    {
     "data": {
      "text/plain": [
       "{'name': 'piyush',\n",
       " 'email_id': 'Piyush@gmail.com',\n",
       " 'subject': ['DS', 'Dsa', 'data analytics']}"
      ]
     },
     "execution_count": 42,
     "metadata": {},
     "output_type": "execute_result"
    }
   ],
   "source": [
    "d8"
   ]
  },
  {
   "cell_type": "code",
   "execution_count": 44,
   "id": "5c8b23ab-9cc6-40c4-8abf-1ff216ed4f10",
   "metadata": {},
   "outputs": [
    {
     "data": {
      "text/plain": [
       "['DS', 'Dsa', 'data analytics']"
      ]
     },
     "execution_count": 44,
     "metadata": {},
     "output_type": "execute_result"
    }
   ],
   "source": [
    "d8['subject']"
   ]
  },
  {
   "cell_type": "code",
   "execution_count": 45,
   "id": "e34e093c-46a1-4329-bbe6-c00ed5c20d9a",
   "metadata": {},
   "outputs": [
    {
     "data": {
      "text/plain": [
       "True"
      ]
     },
     "execution_count": 45,
     "metadata": {},
     "output_type": "execute_result"
    }
   ],
   "source": [
    "'DS' in d8['subject']"
   ]
  },
  {
   "cell_type": "code",
   "execution_count": 46,
   "id": "6732389e-1673-4958-936a-9c01de83d929",
   "metadata": {},
   "outputs": [
    {
     "data": {
      "text/plain": [
       "'data analytics'"
      ]
     },
     "execution_count": 46,
     "metadata": {},
     "output_type": "execute_result"
    }
   ],
   "source": [
    "d8['subject'][2]"
   ]
  },
  {
   "cell_type": "code",
   "execution_count": 51,
   "id": "f20c59d8-b212-4c8f-bf2a-944ff0348873",
   "metadata": {},
   "outputs": [],
   "source": [
    "d9 = {'name' : 'piyush','email_id' : \"Piyush@gmail.com\" , \"subject\" : ['DS','Dsa', 'data analytics']\n",
    "    , 'batches' : ('dsa' , 'DS','Python'),\n",
    "     'Mentor' : ('piyush','amiya','prashant','srii','mayank')\n",
    "      ,'date' : {'fullstack' : \"29 April'23'\", 'DS': \"25 may'23'\" ,\"JDS\" : \"13 june '23'\"}\n",
    "     }"
   ]
  },
  {
   "cell_type": "code",
   "execution_count": 52,
   "id": "6c1b8501-a785-4e93-82ea-9f1e723658f9",
   "metadata": {},
   "outputs": [
    {
     "data": {
      "text/plain": [
       "{'name': 'piyush',\n",
       " 'email_id': 'Piyush@gmail.com',\n",
       " 'subject': ['DS', 'Dsa', 'data analytics'],\n",
       " 'batches': ('dsa', 'DS', 'Python'),\n",
       " 'Mentor': ('piyush', 'amiya', 'prashant', 'srii', 'mayank'),\n",
       " 'date': {'fullstack': \"29 April'23'\",\n",
       "  'DS': \"25 may'23'\",\n",
       "  'JDS': \"13 june '23'\"}}"
      ]
     },
     "execution_count": 52,
     "metadata": {},
     "output_type": "execute_result"
    }
   ],
   "source": [
    "d9"
   ]
  },
  {
   "cell_type": "code",
   "execution_count": 54,
   "id": "03654437-e7ee-477e-a782-d03066e83c78",
   "metadata": {},
   "outputs": [
    {
     "data": {
      "text/plain": [
       "dict"
      ]
     },
     "execution_count": 54,
     "metadata": {},
     "output_type": "execute_result"
    }
   ],
   "source": [
    "type(d9['date'])"
   ]
  },
  {
   "cell_type": "code",
   "execution_count": 60,
   "id": "7bc50b74-978d-4725-a357-6093ab6fd27d",
   "metadata": {},
   "outputs": [
    {
     "data": {
      "text/plain": [
       "\"25 may'23'\""
      ]
     },
     "execution_count": 60,
     "metadata": {},
     "output_type": "execute_result"
    }
   ],
   "source": [
    "d9['date']['DS']"
   ]
  },
  {
   "cell_type": "code",
   "execution_count": 63,
   "id": "144ed319-99a5-42bd-8736-78ec8e85746c",
   "metadata": {},
   "outputs": [],
   "source": [
    "d9['batch name'] =  'binary2.0'"
   ]
  },
  {
   "cell_type": "code",
   "execution_count": 64,
   "id": "7d286c67-6f9e-4236-ba33-bda0af456106",
   "metadata": {},
   "outputs": [
    {
     "data": {
      "text/plain": [
       "{'name': 'piyush',\n",
       " 'email_id': 'Piyush@gmail.com',\n",
       " 'subject': ['DS', 'Dsa', 'data analytics'],\n",
       " 'batches': ('dsa', 'DS', 'Python'),\n",
       " 'Mentor': ('piyush', 'amiya', 'prashant', 'srii', 'mayank'),\n",
       " 'date': {'fullstack': \"29 April'23'\",\n",
       "  'DS': \"25 may'23'\",\n",
       "  'JDS': \"13 june '23'\"},\n",
       " 'batch name': 'binary2.0'}"
      ]
     },
     "execution_count": 64,
     "metadata": {},
     "output_type": "execute_result"
    }
   ],
   "source": [
    "d9"
   ]
  },
  {
   "cell_type": "code",
   "execution_count": 65,
   "id": "8a9ea599-0161-4608-9020-5d73b115ac6e",
   "metadata": {},
   "outputs": [],
   "source": [
    "d9['email_id'] = \"piyushjha416@gamil.com\" # here we change the value of email id "
   ]
  },
  {
   "cell_type": "code",
   "execution_count": 66,
   "id": "94d4afcf-6f66-4b20-bd98-829f8591ab3d",
   "metadata": {},
   "outputs": [
    {
     "data": {
      "text/plain": [
       "{'name': 'piyush',\n",
       " 'email_id': 'piyushjha416@gamil.com',\n",
       " 'subject': ['DS', 'Dsa', 'data analytics'],\n",
       " 'batches': ('dsa', 'DS', 'Python'),\n",
       " 'Mentor': ('piyush', 'amiya', 'prashant', 'srii', 'mayank'),\n",
       " 'date': {'fullstack': \"29 April'23'\",\n",
       "  'DS': \"25 may'23'\",\n",
       "  'JDS': \"13 june '23'\"},\n",
       " 'batch name': 'binary2.0'}"
      ]
     },
     "execution_count": 66,
     "metadata": {},
     "output_type": "execute_result"
    }
   ],
   "source": [
    "d9"
   ]
  },
  {
   "cell_type": "code",
   "execution_count": 67,
   "id": "f112e655-f5f5-4596-a6f9-8bfb6217fef6",
   "metadata": {},
   "outputs": [],
   "source": [
    "del d9['batch name'] #here we delete the key (batch name) in the dictionary "
   ]
  },
  {
   "cell_type": "code",
   "execution_count": 68,
   "id": "91d4e495-0f52-4516-b14d-961841c29759",
   "metadata": {},
   "outputs": [
    {
     "data": {
      "text/plain": [
       "{'name': 'piyush',\n",
       " 'email_id': 'piyushjha416@gamil.com',\n",
       " 'subject': ['DS', 'Dsa', 'data analytics'],\n",
       " 'batches': ('dsa', 'DS', 'Python'),\n",
       " 'Mentor': ('piyush', 'amiya', 'prashant', 'srii', 'mayank'),\n",
       " 'date': {'fullstack': \"29 April'23'\",\n",
       "  'DS': \"25 may'23'\",\n",
       "  'JDS': \"13 june '23'\"}}"
      ]
     },
     "execution_count": 68,
     "metadata": {},
     "output_type": "execute_result"
    }
   ],
   "source": [
    "d9"
   ]
  },
  {
   "cell_type": "code",
   "execution_count": 69,
   "id": "e59b590c-68b9-4ee0-bc0a-0a9f4f9ce43c",
   "metadata": {},
   "outputs": [
    {
     "data": {
      "text/plain": [
       "dict_keys(['name', 'email_id', 'subject', 'batches', 'Mentor', 'date'])"
      ]
     },
     "execution_count": 69,
     "metadata": {},
     "output_type": "execute_result"
    }
   ],
   "source": [
    "d9.keys() #keys give all the name in the dictionary"
   ]
  },
  {
   "cell_type": "code",
   "execution_count": 70,
   "id": "d070d02e-a5cc-4bc0-95a8-3616ea17a1b3",
   "metadata": {},
   "outputs": [
    {
     "data": {
      "text/plain": [
       "['name', 'email_id', 'subject', 'batches', 'Mentor', 'date']"
      ]
     },
     "execution_count": 70,
     "metadata": {},
     "output_type": "execute_result"
    }
   ],
   "source": [
    "list(d9.keys())"
   ]
  },
  {
   "cell_type": "code",
   "execution_count": 71,
   "id": "bcd93c8f-bd94-4866-ab16-3647515cc038",
   "metadata": {},
   "outputs": [
    {
     "data": {
      "text/plain": [
       "dict_values(['piyush', 'piyushjha416@gamil.com', ['DS', 'Dsa', 'data analytics'], ('dsa', 'DS', 'Python'), ('piyush', 'amiya', 'prashant', 'srii', 'mayank'), {'fullstack': \"29 April'23'\", 'DS': \"25 may'23'\", 'JDS': \"13 june '23'\"}])"
      ]
     },
     "execution_count": 71,
     "metadata": {},
     "output_type": "execute_result"
    }
   ],
   "source": [
    "d9.values() #value give all the  value in the dictionary "
   ]
  },
  {
   "cell_type": "code",
   "execution_count": 73,
   "id": "7e65aff2-60a3-4eec-b480-7a58e793dd6a",
   "metadata": {},
   "outputs": [
    {
     "data": {
      "text/plain": [
       "dict_items([('name', 'piyush'), ('email_id', 'piyushjha416@gamil.com'), ('subject', ['DS', 'Dsa', 'data analytics']), ('batches', ('dsa', 'DS', 'Python')), ('Mentor', ('piyush', 'amiya', 'prashant', 'srii', 'mayank')), ('date', {'fullstack': \"29 April'23'\", 'DS': \"25 may'23'\", 'JDS': \"13 june '23'\"})])"
      ]
     },
     "execution_count": 73,
     "metadata": {},
     "output_type": "execute_result"
    }
   ],
   "source": [
    "d9.items() #items give both the key and value in the dictionary which is in the tuples"
   ]
  },
  {
   "cell_type": "code",
   "execution_count": 74,
   "id": "ea3f25e6-475f-4e0e-9889-0336c2d01b65",
   "metadata": {},
   "outputs": [],
   "source": [
    "d9.clear()"
   ]
  },
  {
   "cell_type": "code",
   "execution_count": 75,
   "id": "848414aa-cd29-4314-97df-8cbd7ff25c39",
   "metadata": {},
   "outputs": [
    {
     "data": {
      "text/plain": [
       "{}"
      ]
     },
     "execution_count": 75,
     "metadata": {},
     "output_type": "execute_result"
    }
   ],
   "source": [
    "d9"
   ]
  },
  {
   "cell_type": "code",
   "execution_count": null,
   "id": "3ec2281d-316f-43d3-83e5-5a023af59f51",
   "metadata": {},
   "outputs": [],
   "source": []
  }
 ],
 "metadata": {
  "kernelspec": {
   "display_name": "Python 3 (ipykernel)",
   "language": "python",
   "name": "python3"
  },
  "language_info": {
   "codemirror_mode": {
    "name": "ipython",
    "version": 3
   },
   "file_extension": ".py",
   "mimetype": "text/x-python",
   "name": "python",
   "nbconvert_exporter": "python",
   "pygments_lexer": "ipython3",
   "version": "3.11.4"
  }
 },
 "nbformat": 4,
 "nbformat_minor": 5
}
