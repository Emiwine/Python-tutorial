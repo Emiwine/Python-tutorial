{
 "cells": [
  {
   "cell_type": "code",
   "execution_count": 2,
   "id": "a91505f1-a314-4601-94f2-4f96fb4c66b9",
   "metadata": {},
   "outputs": [],
   "source": [
    "s = {}"
   ]
  },
  {
   "cell_type": "code",
   "execution_count": 3,
   "id": "ed1dfd90-8274-4c2e-99e3-4048ee0204d7",
   "metadata": {},
   "outputs": [
    {
     "data": {
      "text/plain": [
       "dict"
      ]
     },
     "execution_count": 3,
     "metadata": {},
     "output_type": "execute_result"
    }
   ],
   "source": [
    "type(s)"
   ]
  },
  {
   "cell_type": "code",
   "execution_count": 4,
   "id": "2855fe15-d9dc-4b04-a747-a2417b44775a",
   "metadata": {},
   "outputs": [],
   "source": [
    "s1 = {1,2,3,4,5,6,7,1,2,3,4,5,6,7,'sudh','sudhanshu','pwskills','data'}"
   ]
  },
  {
   "cell_type": "code",
   "execution_count": 5,
   "id": "1077a7ce-5a4d-4152-be64-da8d65d4c644",
   "metadata": {},
   "outputs": [
    {
     "data": {
      "text/plain": [
       "{1, 2, 3, 4, 5, 6, 7, 'data', 'pwskills', 'sudh', 'sudhanshu'}"
      ]
     },
     "execution_count": 5,
     "metadata": {},
     "output_type": "execute_result"
    }
   ],
   "source": [
    "s1"
   ]
  },
  {
   "cell_type": "code",
   "execution_count": 6,
   "id": "ef1aa932-e393-41f2-9a6a-9f3649401a14",
   "metadata": {},
   "outputs": [],
   "source": [
    "s2 = {\"Sudh\",\"sudh\",\"sudh\"}  #set doesnot print duplicate value"
   ]
  },
  {
   "cell_type": "code",
   "execution_count": 7,
   "id": "737394ce-3edb-4102-9eb7-3e9058476611",
   "metadata": {},
   "outputs": [
    {
     "data": {
      "text/plain": [
       "{'Sudh', 'sudh'}"
      ]
     },
     "execution_count": 7,
     "metadata": {},
     "output_type": "execute_result"
    }
   ],
   "source": [
    "s2"
   ]
  },
  {
   "cell_type": "code",
   "execution_count": 8,
   "id": "97763b76-5e19-4c0d-a68f-f3b0419ab7ef",
   "metadata": {},
   "outputs": [],
   "source": [
    "s2.add(\"Pwskills\")"
   ]
  },
  {
   "cell_type": "code",
   "execution_count": 9,
   "id": "a35feb4b-34ee-46e1-aaea-1ff9d82a8fe7",
   "metadata": {},
   "outputs": [
    {
     "data": {
      "text/plain": [
       "{'Pwskills', 'Sudh', 'sudh'}"
      ]
     },
     "execution_count": 9,
     "metadata": {},
     "output_type": "execute_result"
    }
   ],
   "source": [
    "s2"
   ]
  },
  {
   "cell_type": "code",
   "execution_count": 10,
   "id": "27cf0916-e7c8-4a79-a9c5-bc27cf4211e1",
   "metadata": {},
   "outputs": [],
   "source": [
    "s2.add(\"Pwskills\")"
   ]
  },
  {
   "cell_type": "code",
   "execution_count": 11,
   "id": "d91e8a48-6434-4273-ac75-f4b277a7c54a",
   "metadata": {},
   "outputs": [
    {
     "ename": "TypeError",
     "evalue": "unhashable type: 'list'",
     "output_type": "error",
     "traceback": [
      "\u001b[1;31m---------------------------------------------------------------------------\u001b[0m",
      "\u001b[1;31mTypeError\u001b[0m                                 Traceback (most recent call last)",
      "Cell \u001b[1;32mIn[11], line 1\u001b[0m\n\u001b[1;32m----> 1\u001b[0m \u001b[43ms2\u001b[49m\u001b[38;5;241;43m.\u001b[39;49m\u001b[43madd\u001b[49m\u001b[43m(\u001b[49m\u001b[43m[\u001b[49m\u001b[38;5;241;43m3\u001b[39;49m\u001b[43m,\u001b[49m\u001b[38;5;241;43m5\u001b[39;49m\u001b[43m,\u001b[49m\u001b[38;5;241;43m6\u001b[39;49m\u001b[43m,\u001b[49m\u001b[38;5;241;43m4\u001b[39;49m\u001b[43m]\u001b[49m\u001b[43m)\u001b[49m \u001b[38;5;66;03m#We can't add list in set \u001b[39;00m\n",
      "\u001b[1;31mTypeError\u001b[0m: unhashable type: 'list'"
     ]
    }
   ],
   "source": [
    "s2.add([3,5,6,4]) #We can't add list in set "
   ]
  },
  {
   "cell_type": "code",
   "execution_count": 12,
   "id": "18065843-3cc6-4faf-b770-5711a8f96024",
   "metadata": {},
   "outputs": [],
   "source": [
    "s2.add((3,6,5,5))"
   ]
  },
  {
   "cell_type": "code",
   "execution_count": 13,
   "id": "d0030671-172c-4962-ab51-681a70c5dbec",
   "metadata": {},
   "outputs": [
    {
     "data": {
      "text/plain": [
       "{(3, 6, 5, 5), 'Pwskills', 'Sudh', 'sudh'}"
      ]
     },
     "execution_count": 13,
     "metadata": {},
     "output_type": "execute_result"
    }
   ],
   "source": [
    "s2"
   ]
  },
  {
   "cell_type": "code",
   "execution_count": 14,
   "id": "25a6bc02-8ce8-4074-a6cb-5b516565b70f",
   "metadata": {},
   "outputs": [],
   "source": [
    "s2.clear()"
   ]
  },
  {
   "cell_type": "code",
   "execution_count": 15,
   "id": "2de0f071-ba87-4cc1-9428-145f822dafcc",
   "metadata": {},
   "outputs": [
    {
     "data": {
      "text/plain": [
       "set()"
      ]
     },
     "execution_count": 15,
     "metadata": {},
     "output_type": "execute_result"
    }
   ],
   "source": [
    "s2"
   ]
  },
  {
   "cell_type": "code",
   "execution_count": 16,
   "id": "7f6609ed-f3a5-437d-9e05-9ba4ff014af0",
   "metadata": {},
   "outputs": [],
   "source": [
    "l = [2,3,4,2,3,4,5,9,2,7]    "
   ]
  },
  {
   "cell_type": "code",
   "execution_count": 17,
   "id": "34c2ac30-ed91-443d-aac8-6518dbb3f222",
   "metadata": {},
   "outputs": [
    {
     "data": {
      "text/plain": [
       "{2, 3, 4, 5, 7, 9}"
      ]
     },
     "execution_count": 17,
     "metadata": {},
     "output_type": "execute_result"
    }
   ],
   "source": [
    "set(l)  #here we can find the duplicate in the list "
   ]
  },
  {
   "cell_type": "code",
   "execution_count": 18,
   "id": "7d12d962-060a-40ba-bae5-cef8666b1c6e",
   "metadata": {},
   "outputs": [],
   "source": [
    "t= (2,3,5,2,5,9,5,6,7,9,6,\"piyush\" , 'piyush')"
   ]
  },
  {
   "cell_type": "code",
   "execution_count": 19,
   "id": "1e791910-eacb-4890-8e53-c128f511f05c",
   "metadata": {},
   "outputs": [
    {
     "data": {
      "text/plain": [
       "{2, 3, 5, 6, 7, 9, 'piyush'}"
      ]
     },
     "execution_count": 19,
     "metadata": {},
     "output_type": "execute_result"
    }
   ],
   "source": [
    "set(t)"
   ]
  },
  {
   "cell_type": "code",
   "execution_count": 22,
   "id": "fe64161f-ffd5-4380-bb5a-784d60cc8d7b",
   "metadata": {},
   "outputs": [],
   "source": [
    "s1.remove(5)"
   ]
  },
  {
   "cell_type": "code",
   "execution_count": 23,
   "id": "3de21ff1-65aa-48b1-a5b0-34e12bd9742f",
   "metadata": {},
   "outputs": [
    {
     "data": {
      "text/plain": [
       "{1, 2, 3, 4, 6, 7, 'data', 'pwskills', 'sudh', 'sudhanshu'}"
      ]
     },
     "execution_count": 23,
     "metadata": {},
     "output_type": "execute_result"
    }
   ],
   "source": [
    "s1"
   ]
  },
  {
   "cell_type": "code",
   "execution_count": 24,
   "id": "8b4c28e0-149f-4571-8b16-32b7e74dab8f",
   "metadata": {},
   "outputs": [],
   "source": [
    "s1.discard(7)"
   ]
  },
  {
   "cell_type": "code",
   "execution_count": 25,
   "id": "729ee459-a400-4c93-9939-c3edfcbb8e1c",
   "metadata": {},
   "outputs": [
    {
     "data": {
      "text/plain": [
       "{1, 2, 3, 4, 6, 'data', 'pwskills', 'sudh', 'sudhanshu'}"
      ]
     },
     "execution_count": 25,
     "metadata": {},
     "output_type": "execute_result"
    }
   ],
   "source": [
    "s1"
   ]
  },
  {
   "cell_type": "code",
   "execution_count": 26,
   "id": "8f020d70-488c-4ebf-8039-902a4d30edc9",
   "metadata": {},
   "outputs": [],
   "source": [
    "s1.discard(100)"
   ]
  },
  {
   "cell_type": "code",
   "execution_count": 27,
   "id": "b379ccf0-5184-4711-b5b4-a01a699a75cb",
   "metadata": {},
   "outputs": [
    {
     "data": {
      "text/plain": [
       "{1, 2, 3, 4, 6, 'data', 'pwskills', 'sudh', 'sudhanshu'}"
      ]
     },
     "execution_count": 27,
     "metadata": {},
     "output_type": "execute_result"
    }
   ],
   "source": [
    "s1"
   ]
  },
  {
   "cell_type": "code",
   "execution_count": 29,
   "id": "35911404-612d-4b20-8560-4749aeecb529",
   "metadata": {},
   "outputs": [
    {
     "data": {
      "text/plain": [
       "1"
      ]
     },
     "execution_count": 29,
     "metadata": {},
     "output_type": "execute_result"
    }
   ],
   "source": [
    "s1.pop()"
   ]
  },
  {
   "cell_type": "code",
   "execution_count": 30,
   "id": "1ef7160f-7e7f-4aee-9ccc-90f03439140e",
   "metadata": {},
   "outputs": [
    {
     "data": {
      "text/plain": [
       "{2, 3, 4, 6, 'data', 'pwskills', 'sudh', 'sudhanshu'}"
      ]
     },
     "execution_count": 30,
     "metadata": {},
     "output_type": "execute_result"
    }
   ],
   "source": [
    "s1"
   ]
  },
  {
   "cell_type": "code",
   "execution_count": 31,
   "id": "626228f0-c296-4605-8ea2-e6ed36bd5fc1",
   "metadata": {},
   "outputs": [
    {
     "data": {
      "text/plain": [
       "2"
      ]
     },
     "execution_count": 31,
     "metadata": {},
     "output_type": "execute_result"
    }
   ],
   "source": [
    "s1.pop()"
   ]
  },
  {
   "cell_type": "code",
   "execution_count": 33,
   "id": "282101c6-56d3-46e5-831e-5bc37717ff0f",
   "metadata": {},
   "outputs": [
    {
     "ename": "TypeError",
     "evalue": "'set' object is not subscriptable",
     "output_type": "error",
     "traceback": [
      "\u001b[1;31m---------------------------------------------------------------------------\u001b[0m",
      "\u001b[1;31mTypeError\u001b[0m                                 Traceback (most recent call last)",
      "Cell \u001b[1;32mIn[33], line 1\u001b[0m\n\u001b[1;32m----> 1\u001b[0m \u001b[43ms1\u001b[49m\u001b[43m[\u001b[49m\u001b[38;5;241;43m0\u001b[39;49m\u001b[43m]\u001b[49m  \u001b[38;5;66;03m#set doesn't store the data in order , thatswhy we cant give the indexes \u001b[39;00m\n",
      "\u001b[1;31mTypeError\u001b[0m: 'set' object is not subscriptable"
     ]
    }
   ],
   "source": [
    "s1[0]  #set doesn't store the data in order , thatswhy we cant give the indexes "
   ]
  },
  {
   "cell_type": "code",
   "execution_count": null,
   "id": "cfb490a3-d256-40bf-8e1c-97edb32a6230",
   "metadata": {},
   "outputs": [],
   "source": []
  },
  {
   "cell_type": "code",
   "execution_count": null,
   "id": "b955064b-08d4-4439-a81d-8e538afc4b72",
   "metadata": {},
   "outputs": [],
   "source": []
  }
 ],
 "metadata": {
  "kernelspec": {
   "display_name": "Python 3 (ipykernel)",
   "language": "python",
   "name": "python3"
  },
  "language_info": {
   "codemirror_mode": {
    "name": "ipython",
    "version": 3
   },
   "file_extension": ".py",
   "mimetype": "text/x-python",
   "name": "python",
   "nbconvert_exporter": "python",
   "pygments_lexer": "ipython3",
   "version": "3.11.4"
  }
 },
 "nbformat": 4,
 "nbformat_minor": 5
}
