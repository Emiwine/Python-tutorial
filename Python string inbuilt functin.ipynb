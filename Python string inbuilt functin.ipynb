{
 "cells": [
  {
   "cell_type": "code",
   "execution_count": 1,
   "id": "314fe2f6-7c23-4778-a386-8d61f9fff133",
   "metadata": {},
   "outputs": [],
   "source": [
    "s = \"Piyush\""
   ]
  },
  {
   "cell_type": "code",
   "execution_count": 2,
   "id": "13d5c2c7-1ffb-4f63-ac00-a2bf57f66a9c",
   "metadata": {},
   "outputs": [
    {
     "data": {
      "text/plain": [
       "str"
      ]
     },
     "execution_count": 2,
     "metadata": {},
     "output_type": "execute_result"
    }
   ],
   "source": [
    "type(s)"
   ]
  },
  {
   "cell_type": "code",
   "execution_count": 7,
   "id": "c9e33bf7-fd15-4c00-9f91-23c68567fd7c",
   "metadata": {},
   "outputs": [],
   "source": [
    "s1 = \"This is my stirng inbuilt class\""
   ]
  },
  {
   "cell_type": "code",
   "execution_count": 8,
   "id": "8926140e-6a98-49b5-8bdf-b39b69c73939",
   "metadata": {},
   "outputs": [
    {
     "data": {
      "text/plain": [
       "str"
      ]
     },
     "execution_count": 8,
     "metadata": {},
     "output_type": "execute_result"
    }
   ],
   "source": [
    "type(s1)"
   ]
  },
  {
   "cell_type": "code",
   "execution_count": 9,
   "id": "902cd33e-172b-4fbf-b7b5-d0355f7fd7d7",
   "metadata": {},
   "outputs": [
    {
     "data": {
      "text/plain": [
       "31"
      ]
     },
     "execution_count": 9,
     "metadata": {},
     "output_type": "execute_result"
    }
   ],
   "source": [
    "len(s1)"
   ]
  },
  {
   "cell_type": "code",
   "execution_count": 15,
   "id": "f7defe00-a4a8-4c8e-bf4d-1c63f6cbdf35",
   "metadata": {},
   "outputs": [
    {
     "data": {
      "text/plain": [
       "8"
      ]
     },
     "execution_count": 15,
     "metadata": {},
     "output_type": "execute_result"
    }
   ],
   "source": [
    "s1.find('m')"
   ]
  },
  {
   "cell_type": "code",
   "execution_count": 17,
   "id": "232b7f1a-48ee-4cb2-a2c8-28b554265217",
   "metadata": {},
   "outputs": [],
   "source": [
    "s2 = \"pwskills\""
   ]
  },
  {
   "cell_type": "code",
   "execution_count": 18,
   "id": "a0c62ee9-ee9e-4bc9-8dfb-230092015392",
   "metadata": {},
   "outputs": [
    {
     "data": {
      "text/plain": [
       "5"
      ]
     },
     "execution_count": 18,
     "metadata": {},
     "output_type": "execute_result"
    }
   ],
   "source": [
    "s2.find('l')"
   ]
  },
  {
   "cell_type": "code",
   "execution_count": 19,
   "id": "95695fde-1e53-47c7-8729-e67bc6d385ff",
   "metadata": {},
   "outputs": [
    {
     "data": {
      "text/plain": [
       "2"
      ]
     },
     "execution_count": 19,
     "metadata": {},
     "output_type": "execute_result"
    }
   ],
   "source": [
    "s2.find('sk')"
   ]
  },
  {
   "cell_type": "code",
   "execution_count": 20,
   "id": "b303375a-99c0-4a52-ac66-2d4b245c6176",
   "metadata": {},
   "outputs": [
    {
     "data": {
      "text/plain": [
       "2"
      ]
     },
     "execution_count": 20,
     "metadata": {},
     "output_type": "execute_result"
    }
   ],
   "source": [
    "s2.count('l')"
   ]
  },
  {
   "cell_type": "code",
   "execution_count": 22,
   "id": "983c2d02-40a3-4448-8e7c-bb3e51cddaff",
   "metadata": {},
   "outputs": [
    {
     "data": {
      "text/plain": [
       "2"
      ]
     },
     "execution_count": 22,
     "metadata": {},
     "output_type": "execute_result"
    }
   ],
   "source": [
    "s2.count('s')"
   ]
  },
  {
   "cell_type": "code",
   "execution_count": 23,
   "id": "aa6051fb-f281-42f9-9e4c-020d149aeee7",
   "metadata": {},
   "outputs": [
    {
     "data": {
      "text/plain": [
       "0"
      ]
     },
     "execution_count": 23,
     "metadata": {},
     "output_type": "execute_result"
    }
   ],
   "source": [
    "s2.count('z')"
   ]
  },
  {
   "cell_type": "code",
   "execution_count": 24,
   "id": "27c03b05-ec00-41f5-95ec-8b4236e4653e",
   "metadata": {},
   "outputs": [
    {
     "data": {
      "text/plain": [
       "'PWSKILLS'"
      ]
     },
     "execution_count": 24,
     "metadata": {},
     "output_type": "execute_result"
    }
   ],
   "source": [
    "s2.upper()"
   ]
  },
  {
   "cell_type": "code",
   "execution_count": 26,
   "id": "41730e2c-ae8e-41fe-89af-489fd1dc9f1c",
   "metadata": {},
   "outputs": [
    {
     "data": {
      "text/plain": [
       "'pwskills'"
      ]
     },
     "execution_count": 26,
     "metadata": {},
     "output_type": "execute_result"
    }
   ],
   "source": [
    "s2.lower()"
   ]
  },
  {
   "cell_type": "code",
   "execution_count": 27,
   "id": "166409eb-63c1-458b-bafe-dab6ad45a916",
   "metadata": {},
   "outputs": [],
   "source": [
    "s3 = \"COllege Wallah\""
   ]
  },
  {
   "cell_type": "code",
   "execution_count": 28,
   "id": "1d45ac14-0351-4b44-8eca-2eeeeae1c4c9",
   "metadata": {},
   "outputs": [
    {
     "data": {
      "text/plain": [
       "'college wallah'"
      ]
     },
     "execution_count": 28,
     "metadata": {},
     "output_type": "execute_result"
    }
   ],
   "source": [
    "s3.lower()"
   ]
  },
  {
   "cell_type": "code",
   "execution_count": 29,
   "id": "6548555c-c03b-4dcd-b523-cbbc9ef2f6f2",
   "metadata": {},
   "outputs": [
    {
     "data": {
      "text/plain": [
       "'COLLEGE WALLAH'"
      ]
     },
     "execution_count": 29,
     "metadata": {},
     "output_type": "execute_result"
    }
   ],
   "source": [
    "s3.upper()"
   ]
  },
  {
   "cell_type": "code",
   "execution_count": 30,
   "id": "921a3cd7-6782-4330-a2ab-f89bb5c8aaa2",
   "metadata": {},
   "outputs": [
    {
     "data": {
      "text/plain": [
       "'coLLEGE wALLAH'"
      ]
     },
     "execution_count": 30,
     "metadata": {},
     "output_type": "execute_result"
    }
   ],
   "source": [
    "s3.swapcase()  #This is used to swap the word"
   ]
  },
  {
   "cell_type": "code",
   "execution_count": 31,
   "id": "69e5a9a7-f162-4ccc-9386-7ae5dcfe2680",
   "metadata": {},
   "outputs": [
    {
     "data": {
      "text/plain": [
       "'College Wallah'"
      ]
     },
     "execution_count": 31,
     "metadata": {},
     "output_type": "execute_result"
    }
   ],
   "source": [
    "s3.title()  #first letter is capital in each and every word "
   ]
  },
  {
   "cell_type": "code",
   "execution_count": 32,
   "id": "52a37fc9-6bf8-4f8d-95e5-4321c7527c44",
   "metadata": {},
   "outputs": [
    {
     "data": {
      "text/plain": [
       "'This Is My Stirng Inbuilt Class'"
      ]
     },
     "execution_count": 32,
     "metadata": {},
     "output_type": "execute_result"
    }
   ],
   "source": [
    "s1.title()"
   ]
  },
  {
   "cell_type": "code",
   "execution_count": 33,
   "id": "ff16581c-f057-4647-bb59-8b29302a8335",
   "metadata": {},
   "outputs": [
    {
     "data": {
      "text/plain": [
       "'This is my stirng inbuilt class'"
      ]
     },
     "execution_count": 33,
     "metadata": {},
     "output_type": "execute_result"
    }
   ],
   "source": [
    "s1.capitalize() # it only capital first letter inthe first word "
   ]
  },
  {
   "cell_type": "code",
   "execution_count": null,
   "id": "ddd50a9f-4d97-46f4-9587-0d53d3892bce",
   "metadata": {},
   "outputs": [],
   "source": []
  }
 ],
 "metadata": {
  "kernelspec": {
   "display_name": "Python 3 (ipykernel)",
   "language": "python",
   "name": "python3"
  },
  "language_info": {
   "codemirror_mode": {
    "name": "ipython",
    "version": 3
   },
   "file_extension": ".py",
   "mimetype": "text/x-python",
   "name": "python",
   "nbconvert_exporter": "python",
   "pygments_lexer": "ipython3",
   "version": "3.11.4"
  }
 },
 "nbformat": 4,
 "nbformat_minor": 5
}
