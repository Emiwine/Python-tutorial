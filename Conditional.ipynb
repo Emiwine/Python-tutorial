{
 "cells": [
  {
   "cell_type": "code",
   "execution_count": 1,
   "id": "c5e12003-49cf-4b7e-a34c-3d34a00499c8",
   "metadata": {},
   "outputs": [],
   "source": [
    "a = 1100"
   ]
  },
  {
   "cell_type": "code",
   "execution_count": 3,
   "id": "d99a6ea9-a20e-41a7-853a-3344ee90cdab",
   "metadata": {},
   "outputs": [
    {
     "name": "stdout",
     "output_type": "stream",
     "text": [
      "Ok i will buy\n"
     ]
    }
   ],
   "source": [
    "price = 400\n",
    "if price<=500:\n",
    "    \n",
    "    print(\"Ok i will buy\")\n",
    "    "
   ]
  },
  {
   "cell_type": "code",
   "execution_count": 5,
   "id": "057e8f1a-5b3a-4e99-9feb-0fb839946103",
   "metadata": {},
   "outputs": [
    {
     "data": {
      "text/plain": [
       "True"
      ]
     },
     "execution_count": 5,
     "metadata": {},
     "output_type": "execute_result"
    }
   ],
   "source": [
    "price <= 500"
   ]
  },
  {
   "cell_type": "code",
   "execution_count": 10,
   "id": "91f49f95-e52d-4756-9ee6-0d6d976c5665",
   "metadata": {},
   "outputs": [
    {
     "name": "stdout",
     "output_type": "stream",
     "text": [
      "if it is false then i will not buy\n"
     ]
    }
   ],
   "source": [
    "if price>=500:\n",
    "    \n",
    "    print(\"Ok i will buy\")\n",
    "else:\n",
    "    print(\"if it is false then i will not buy\")"
   ]
  },
  {
   "cell_type": "code",
   "execution_count": 11,
   "id": "4c89fb03-47c6-41d1-b19d-a2ab4fe2be28",
   "metadata": {},
   "outputs": [
    {
     "data": {
      "text/plain": [
       "False"
      ]
     },
     "execution_count": 11,
     "metadata": {},
     "output_type": "execute_result"
    }
   ],
   "source": [
    "price >= 500"
   ]
  },
  {
   "cell_type": "code",
   "execution_count": 16,
   "id": "7256cf94-41cd-4d42-aa04-0908411e1d1e",
   "metadata": {},
   "outputs": [
    {
     "name": "stdin",
     "output_type": "stream",
     "text": [
      " 645\n"
     ]
    }
   ],
   "source": [
    "price = input() #input always convert the input data into string \n",
    "#read string as a stranderd input"
   ]
  },
  {
   "cell_type": "code",
   "execution_count": 17,
   "id": "dfe60a27-9fc6-4c46-8105-571cf74a997f",
   "metadata": {},
   "outputs": [
    {
     "data": {
      "text/plain": [
       "'645'"
      ]
     },
     "execution_count": 17,
     "metadata": {},
     "output_type": "execute_result"
    }
   ],
   "source": [
    "price"
   ]
  },
  {
   "cell_type": "code",
   "execution_count": 18,
   "id": "ade42a3e-b8b5-4dfd-9049-c83cbdb34dae",
   "metadata": {},
   "outputs": [
    {
     "data": {
      "text/plain": [
       "str"
      ]
     },
     "execution_count": 18,
     "metadata": {},
     "output_type": "execute_result"
    }
   ],
   "source": [
    "type(price)"
   ]
  },
  {
   "cell_type": "code",
   "execution_count": 21,
   "id": "ce59b60a-49e5-46b5-ac2a-45eae8bbe8c3",
   "metadata": {},
   "outputs": [
    {
     "name": "stdin",
     "output_type": "stream",
     "text": [
      "Enter the value of price 6646\n"
     ]
    }
   ],
   "source": [
    "#so if we want to convert the input into the string the we use typecasting \n",
    "price = int(input(\"Enter the value of price\"))"
   ]
  },
  {
   "cell_type": "code",
   "execution_count": 22,
   "id": "c0303083-914a-4b85-910d-715b9c5d0a3b",
   "metadata": {},
   "outputs": [
    {
     "data": {
      "text/plain": [
       "int"
      ]
     },
     "execution_count": 22,
     "metadata": {},
     "output_type": "execute_result"
    }
   ],
   "source": [
    "type(price)"
   ]
  },
  {
   "cell_type": "code",
   "execution_count": 23,
   "id": "3741c144-5df5-463f-bb4e-c71c0d93dca0",
   "metadata": {},
   "outputs": [
    {
     "data": {
      "text/plain": [
       "6646"
      ]
     },
     "execution_count": 23,
     "metadata": {},
     "output_type": "execute_result"
    }
   ],
   "source": [
    "price"
   ]
  },
  {
   "cell_type": "code",
   "execution_count": 27,
   "id": "ba377d25-5c27-4d76-8de9-066e05f384be",
   "metadata": {},
   "outputs": [
    {
     "name": "stdin",
     "output_type": "stream",
     "text": [
      "Enter the price value =  1000\n"
     ]
    },
    {
     "name": "stdout",
     "output_type": "stream",
     "text": [
      "I will buy shirt\n"
     ]
    }
   ],
   "source": [
    "price = int(input(\"Enter the price value = \"))\n",
    "if price < 100:\n",
    "    print(\"I will but chocolate\")\n",
    "elif price > 500:\n",
    "    print(\"I will buy shirt\")\n",
    "else:\n",
    "    print(\"I will not buy anything\")"
   ]
  },
  {
   "cell_type": "markdown",
   "id": "9ee988c1-747c-44c9-a65a-6fc9f8632352",
   "metadata": {},
   "source": [
    "Q1 . Check if the number is +ve,-ve or zero "
   ]
  },
  {
   "cell_type": "code",
   "execution_count": 29,
   "id": "3c5e5c08-8ec8-4afd-86f0-ac8936e33e77",
   "metadata": {},
   "outputs": [
    {
     "name": "stdin",
     "output_type": "stream",
     "text": [
      "Enter the number 5\n"
     ]
    },
    {
     "name": "stdout",
     "output_type": "stream",
     "text": [
      "a is positive\n"
     ]
    }
   ],
   "source": [
    "a = int(input(\"Enter the number\"))\n",
    "if a>0:\n",
    "    print(\"a is positive\")\n",
    "elif a < 0:\n",
    "    print(\" a ia negative\")\n",
    "else:\n",
    "    print(\"a is zero\")"
   ]
  },
  {
   "cell_type": "markdown",
   "id": "0dd492a7-1a1b-4d64-8497-bdef4f9f5fac",
   "metadata": {},
   "source": [
    "Q2 . Check if the number is even or odd "
   ]
  },
  {
   "cell_type": "code",
   "execution_count": 30,
   "id": "957f302d-795c-4c4f-af26-4326db455337",
   "metadata": {},
   "outputs": [
    {
     "name": "stdin",
     "output_type": "stream",
     "text": [
      "Enter the number to check its even or odd 4\n"
     ]
    },
    {
     "name": "stdout",
     "output_type": "stream",
     "text": [
      "The number is even \n"
     ]
    }
   ],
   "source": [
    "n = int(input(\"Enter the number to check its even or odd\"))\n",
    "if n%2 == 0:\n",
    "    print(\"The number is even \")\n",
    "else:\n",
    "    print(\"The number is odd \")"
   ]
  },
  {
   "cell_type": "markdown",
   "id": "96be5001-7886-4275-8360-d24ad8725160",
   "metadata": {},
   "source": [
    "Q3. Check if the you are eligible to vote"
   ]
  },
  {
   "cell_type": "code",
   "execution_count": 8,
   "id": "f79c7a5b-589f-4c09-88ac-440f87708fea",
   "metadata": {},
   "outputs": [
    {
     "name": "stdin",
     "output_type": "stream",
     "text": [
      "Enter the age  18\n",
      "are you a citizen  no\n",
      "Do you have voter id card ? =  no\n"
     ]
    },
    {
     "name": "stdout",
     "output_type": "stream",
     "text": [
      "You are not a citizen then you are not allowed to cast your vote\n"
     ]
    }
   ],
   "source": [
    "age = int(input(\"Enter the age \"))\n",
    "citizen = input(\"are you a citizen \")\n",
    "voter_id = input(\"Do you have voter id card ? = \")\n",
    "if age >= 18:\n",
    "    if citizen == 'yes':\n",
    "        print(\"Yes you are a citizen\")\n",
    "    else:\n",
    "        print(\"You are not a citizen then you are not allowed to cast your vote\")\n",
    "        if voter_id == 'yes':\n",
    "            print(\"You are eligible for giving the vote \")\n",
    "else:\n",
    "    print(\"You are not eligible for giving the vote\")"
   ]
  },
  {
   "cell_type": "code",
   "execution_count": null,
   "id": "92c856e1-1b74-4931-83c5-ea2122be0a99",
   "metadata": {},
   "outputs": [],
   "source": []
  },
  {
   "cell_type": "code",
   "execution_count": null,
   "id": "c174aa3f-c589-46a1-81c4-50c018349342",
   "metadata": {},
   "outputs": [],
   "source": []
  }
 ],
 "metadata": {
  "kernelspec": {
   "display_name": "Python 3 (ipykernel)",
   "language": "python",
   "name": "python3"
  },
  "language_info": {
   "codemirror_mode": {
    "name": "ipython",
    "version": 3
   },
   "file_extension": ".py",
   "mimetype": "text/x-python",
   "name": "python",
   "nbconvert_exporter": "python",
   "pygments_lexer": "ipython3",
   "version": "3.11.4"
  }
 },
 "nbformat": 4,
 "nbformat_minor": 5
}
