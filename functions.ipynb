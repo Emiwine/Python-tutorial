{
 "cells": [
  {
   "cell_type": "code",
   "execution_count": 1,
   "id": "ecd5cb2c-3d81-42b2-9e76-1d9f89bd4856",
   "metadata": {},
   "outputs": [
    {
     "name": "stdout",
     "output_type": "stream",
     "text": [
      "This is my print\n"
     ]
    }
   ],
   "source": [
    "print(\"This is my print\")"
   ]
  },
  {
   "cell_type": "code",
   "execution_count": 3,
   "id": "310ca92b-0329-40d9-94e6-5f28939b33c8",
   "metadata": {},
   "outputs": [],
   "source": [
    "def test():\n",
    "    pass"
   ]
  },
  {
   "cell_type": "code",
   "execution_count": 6,
   "id": "f214b3fe-28c5-46f4-a0bf-ba09676ab7c1",
   "metadata": {},
   "outputs": [],
   "source": [
    "def test1():\n",
    "    print(\"this is my very very first function\")\n",
    "    pass"
   ]
  },
  {
   "cell_type": "code",
   "execution_count": 7,
   "id": "fe4891f1-1e5c-4e69-90d9-aa919010dfe2",
   "metadata": {},
   "outputs": [
    {
     "name": "stdout",
     "output_type": "stream",
     "text": [
      "this is my very very first function\n"
     ]
    }
   ],
   "source": [
    "test1()"
   ]
  },
  {
   "cell_type": "code",
   "execution_count": 9,
   "id": "d4a03bb1-765a-4075-a058-c512a8a6a309",
   "metadata": {},
   "outputs": [
    {
     "name": "stdout",
     "output_type": "stream",
     "text": [
      "this is my very very first function\n"
     ]
    },
    {
     "ename": "TypeError",
     "evalue": "unsupported operand type(s) for +: 'NoneType' and 'str'",
     "output_type": "error",
     "traceback": [
      "\u001b[1;31m---------------------------------------------------------------------------\u001b[0m",
      "\u001b[1;31mTypeError\u001b[0m                                 Traceback (most recent call last)",
      "Cell \u001b[1;32mIn[9], line 1\u001b[0m\n\u001b[1;32m----> 1\u001b[0m \u001b[43mtest1\u001b[49m\u001b[43m(\u001b[49m\u001b[43m)\u001b[49m\u001b[43m \u001b[49m\u001b[38;5;241;43m+\u001b[39;49m\u001b[43m \u001b[49m\u001b[38;5;124;43m'\u001b[39;49m\u001b[38;5;124;43msudh\u001b[39;49m\u001b[38;5;124;43m'\u001b[39;49m\n",
      "\u001b[1;31mTypeError\u001b[0m: unsupported operand type(s) for +: 'NoneType' and 'str'"
     ]
    }
   ],
   "source": [
    "test1() + 'sudh' #if we user print function then it will give the nonetype "
   ]
  },
  {
   "cell_type": "code",
   "execution_count": 13,
   "id": "f95be582-1699-4e9a-9e0d-52e6a39950b8",
   "metadata": {},
   "outputs": [],
   "source": [
    "def test2():\n",
    "    return \"this is my very first return\"\n",
    "    "
   ]
  },
  {
   "cell_type": "code",
   "execution_count": 14,
   "id": "98c1f3f2-3ab4-4c16-b7ac-d2741bddda34",
   "metadata": {},
   "outputs": [
    {
     "data": {
      "text/plain": [
       "'this is my very first return'"
      ]
     },
     "execution_count": 14,
     "metadata": {},
     "output_type": "execute_result"
    }
   ],
   "source": [
    "test2()"
   ]
  },
  {
   "cell_type": "code",
   "execution_count": 16,
   "id": "049abf8b-fbb5-4365-8239-d194584c8645",
   "metadata": {},
   "outputs": [
    {
     "data": {
      "text/plain": [
       "'this is my very first return sudh'"
      ]
     },
     "execution_count": 16,
     "metadata": {},
     "output_type": "execute_result"
    }
   ],
   "source": [
    "test2() + ' sudh'  #but if we use return function then it will add or the other thing"
   ]
  },
  {
   "cell_type": "code",
   "execution_count": 17,
   "id": "c257e84b-e1fc-4bd0-9556-4ea0f846a5cd",
   "metadata": {},
   "outputs": [],
   "source": [
    "def test3():\n",
    "    return \"sudh\",23,25,3,636.565,[1,2,3,3]"
   ]
  },
  {
   "cell_type": "code",
   "execution_count": 18,
   "id": "33409d9b-297b-4e55-9c6c-1dc4357ce25a",
   "metadata": {},
   "outputs": [
    {
     "data": {
      "text/plain": [
       "('sudh', 23, 25, 3, 636.565, [1, 2, 3, 3])"
      ]
     },
     "execution_count": 18,
     "metadata": {},
     "output_type": "execute_result"
    }
   ],
   "source": [
    "test3()"
   ]
  },
  {
   "cell_type": "code",
   "execution_count": 20,
   "id": "d86f78a7-6f4f-4daf-931e-32119bb44e28",
   "metadata": {},
   "outputs": [],
   "source": [
    "a,b,c,d ,e,f= test3()"
   ]
  },
  {
   "cell_type": "code",
   "execution_count": 21,
   "id": "f6f13aa8-21b9-4cfb-b4dd-49aa9ea1003d",
   "metadata": {},
   "outputs": [
    {
     "data": {
      "text/plain": [
       "'sudh'"
      ]
     },
     "execution_count": 21,
     "metadata": {},
     "output_type": "execute_result"
    }
   ],
   "source": [
    "a"
   ]
  },
  {
   "cell_type": "code",
   "execution_count": 22,
   "id": "9b90b767-622a-4f2a-a744-d250dc36492d",
   "metadata": {},
   "outputs": [
    {
     "data": {
      "text/plain": [
       "23"
      ]
     },
     "execution_count": 22,
     "metadata": {},
     "output_type": "execute_result"
    }
   ],
   "source": [
    "b"
   ]
  },
  {
   "cell_type": "code",
   "execution_count": 23,
   "id": "60416a49-da9e-4d0a-a88a-91d942e94331",
   "metadata": {},
   "outputs": [
    {
     "data": {
      "text/plain": [
       "25"
      ]
     },
     "execution_count": 23,
     "metadata": {},
     "output_type": "execute_result"
    }
   ],
   "source": [
    "c"
   ]
  },
  {
   "cell_type": "code",
   "execution_count": 24,
   "id": "89aec321-15ed-4fc9-ae9f-fd068cc58412",
   "metadata": {},
   "outputs": [
    {
     "data": {
      "text/plain": [
       "636.565"
      ]
     },
     "execution_count": 24,
     "metadata": {},
     "output_type": "execute_result"
    }
   ],
   "source": [
    "e"
   ]
  },
  {
   "cell_type": "code",
   "execution_count": 25,
   "id": "f0fc51a1-ad7c-4489-bf54-6c46aa8cd9dd",
   "metadata": {},
   "outputs": [
    {
     "data": {
      "text/plain": [
       "[1, 2, 3, 3]"
      ]
     },
     "execution_count": 25,
     "metadata": {},
     "output_type": "execute_result"
    }
   ],
   "source": [
    "f"
   ]
  },
  {
   "cell_type": "code",
   "execution_count": 26,
   "id": "b2a1d85f-9226-4db3-9f04-beb4834fce7f",
   "metadata": {},
   "outputs": [],
   "source": [
    "a,b = 1,4"
   ]
  },
  {
   "cell_type": "code",
   "execution_count": 27,
   "id": "cf5428cb-b363-407f-89f6-0586d4d691d5",
   "metadata": {},
   "outputs": [
    {
     "data": {
      "text/plain": [
       "1"
      ]
     },
     "execution_count": 27,
     "metadata": {},
     "output_type": "execute_result"
    }
   ],
   "source": [
    "a"
   ]
  },
  {
   "cell_type": "code",
   "execution_count": 33,
   "id": "29215e5e-bdf1-44ba-ae73-977459816303",
   "metadata": {},
   "outputs": [],
   "source": [
    "def test4():\n",
    "    a= 5+6/7\n",
    "    return a"
   ]
  },
  {
   "cell_type": "code",
   "execution_count": 34,
   "id": "d526f7c6-aec8-4362-a71a-a9ac20ab7610",
   "metadata": {},
   "outputs": [
    {
     "data": {
      "text/plain": [
       "5.857142857142857"
      ]
     },
     "execution_count": 34,
     "metadata": {},
     "output_type": "execute_result"
    }
   ],
   "source": [
    "test4()"
   ]
  },
  {
   "cell_type": "code",
   "execution_count": 35,
   "id": "e308b52d-d272-4398-9f8f-25b1cefb18b9",
   "metadata": {},
   "outputs": [],
   "source": [
    "def test5(a,b,c):\n",
    "    d = a+b/c\n",
    "    return d"
   ]
  },
  {
   "cell_type": "code",
   "execution_count": 38,
   "id": "bb0567d9-beaf-4d76-a795-fdfdd9b9cefd",
   "metadata": {},
   "outputs": [
    {
     "ename": "TypeError",
     "evalue": "test5() missing 3 required positional arguments: 'a', 'b', and 'c'",
     "output_type": "error",
     "traceback": [
      "\u001b[1;31m---------------------------------------------------------------------------\u001b[0m",
      "\u001b[1;31mTypeError\u001b[0m                                 Traceback (most recent call last)",
      "Cell \u001b[1;32mIn[38], line 1\u001b[0m\n\u001b[1;32m----> 1\u001b[0m \u001b[43mtest5\u001b[49m\u001b[43m(\u001b[49m\u001b[43m)\u001b[49m  \u001b[38;5;66;03m#here we give the argument in the test5\u001b[39;00m\n",
      "\u001b[1;31mTypeError\u001b[0m: test5() missing 3 required positional arguments: 'a', 'b', and 'c'"
     ]
    }
   ],
   "source": [
    "test5()  #here we give the argument in the test5"
   ]
  },
  {
   "cell_type": "code",
   "execution_count": 39,
   "id": "6dc56b2b-18a8-4616-aa45-99af68d541f6",
   "metadata": {},
   "outputs": [
    {
     "data": {
      "text/plain": [
       "2.6"
      ]
     },
     "execution_count": 39,
     "metadata": {},
     "output_type": "execute_result"
    }
   ],
   "source": [
    "test5(2,3,5)"
   ]
  },
  {
   "cell_type": "code",
   "execution_count": 44,
   "id": "bfc1cc28-ec4d-4b8a-9232-7437caa6d853",
   "metadata": {},
   "outputs": [],
   "source": [
    "def test6(a,b,c):\n",
    "    return a+b+c"
   ]
  },
  {
   "cell_type": "code",
   "execution_count": 45,
   "id": "a975ed24-d240-496d-8ef9-c0828a2e0d8f",
   "metadata": {},
   "outputs": [
    {
     "data": {
      "text/plain": [
       "9"
      ]
     },
     "execution_count": 45,
     "metadata": {},
     "output_type": "execute_result"
    }
   ],
   "source": [
    "test6(5,3,1)"
   ]
  },
  {
   "cell_type": "code",
   "execution_count": 48,
   "id": "72d1430b-c795-4ff0-97ec-89eee222dcc7",
   "metadata": {},
   "outputs": [
    {
     "data": {
      "text/plain": [
       "'Piyush Kumar Jha'"
      ]
     },
     "execution_count": 48,
     "metadata": {},
     "output_type": "execute_result"
    }
   ],
   "source": [
    "test6(\"Piyush \" , \"Kumar \" ,\"Jha\")"
   ]
  },
  {
   "cell_type": "code",
   "execution_count": 51,
   "id": "d86ce6d8-de45-47c2-9144-a74ef0eeb85b",
   "metadata": {},
   "outputs": [
    {
     "data": {
      "text/plain": [
       "[1, 2, 3, 5, 4, 5, 6, 4, 6, 2]"
      ]
     },
     "execution_count": 51,
     "metadata": {},
     "output_type": "execute_result"
    }
   ],
   "source": [
    "test6([1,2,3,5] , [4,5,6],[4,6,2])"
   ]
  },
  {
   "cell_type": "code",
   "execution_count": 79,
   "id": "1884a2bb-c574-4fb9-8c41-ce71c4f3e002",
   "metadata": {},
   "outputs": [],
   "source": [
    "l = [1,2,3,4,\"sudh\",\"Kumar\",[1,2,3,4,9,2,7,8,]]"
   ]
  },
  {
   "cell_type": "code",
   "execution_count": 80,
   "id": "84f58646-9d79-4d22-89d7-716eebe1de0b",
   "metadata": {},
   "outputs": [],
   "source": [
    "l1 = []\n",
    "for i in l:\n",
    "    if type(i) == int or type(i) == float:\n",
    "        l1.append(i)"
   ]
  },
  {
   "cell_type": "code",
   "execution_count": 81,
   "id": "19974361-7d5d-4512-b850-dc2a5e4c8e58",
   "metadata": {},
   "outputs": [
    {
     "data": {
      "text/plain": [
       "[1, 2, 3, 4]"
      ]
     },
     "execution_count": 81,
     "metadata": {},
     "output_type": "execute_result"
    }
   ],
   "source": [
    "l1"
   ]
  },
  {
   "cell_type": "code",
   "execution_count": 82,
   "id": "bcb5a0d4-3160-46f9-8dc6-c8ea76cc4317",
   "metadata": {},
   "outputs": [],
   "source": [
    "def test8(l):\n",
    "    l1 = []\n",
    "    for i in l:\n",
    "        if type(i) == int or type(i) == float :\n",
    "            l1.append(i)\n",
    "    return l1"
   ]
  },
  {
   "cell_type": "code",
   "execution_count": 83,
   "id": "26131a61-74f6-421e-9735-1fcdff18b098",
   "metadata": {},
   "outputs": [
    {
     "data": {
      "text/plain": [
       "[1, 2, 3, 4]"
      ]
     },
     "execution_count": 83,
     "metadata": {},
     "output_type": "execute_result"
    }
   ],
   "source": [
    "test8(l)"
   ]
  },
  {
   "cell_type": "code",
   "execution_count": 84,
   "id": "60b2a40d-f30f-43a8-b37c-bebd9a0711bf",
   "metadata": {},
   "outputs": [
    {
     "data": {
      "text/plain": [
       "[1, 2, 3, 4, 'sudh', 'Kumar', [1, 2, 3, 4, 9, 2, 7, 8]]"
      ]
     },
     "execution_count": 84,
     "metadata": {},
     "output_type": "execute_result"
    }
   ],
   "source": [
    "l"
   ]
  },
  {
   "cell_type": "code",
   "execution_count": 88,
   "id": "e387d84e-af12-4ff7-9576-5709c6ea60fe",
   "metadata": {},
   "outputs": [],
   "source": [
    "def test9(a):\n",
    "    l = []\n",
    "    for i in a:\n",
    "        if type(i) == list:\n",
    "            for j in i:\n",
    "                l.append(j)\n",
    "        else:\n",
    "            if type(i) == int  or type(i) == float:\n",
    "                l.append(i)\n",
    "    return l"
   ]
  },
  {
   "cell_type": "code",
   "execution_count": 90,
   "id": "2f6515f8-ecf1-4692-91e3-7adf71b5b81a",
   "metadata": {},
   "outputs": [
    {
     "data": {
      "text/plain": [
       "[1, 2, 3, 4, 1, 2, 3, 4, 9, 2, 7, 8]"
      ]
     },
     "execution_count": 90,
     "metadata": {},
     "output_type": "execute_result"
    }
   ],
   "source": [
    "test9(l)"
   ]
  },
  {
   "cell_type": "code",
   "execution_count": 91,
   "id": "e0b3ffb3-f88b-4524-9fd9-44ab5f4f7afb",
   "metadata": {},
   "outputs": [
    {
     "data": {
      "text/plain": [
       "[1, 2, 3, 4, 'sudh', 'Kumar', [1, 2, 3, 4, 9, 2, 7, 8]]"
      ]
     },
     "execution_count": 91,
     "metadata": {},
     "output_type": "execute_result"
    }
   ],
   "source": [
    "l"
   ]
  },
  {
   "cell_type": "code",
   "execution_count": 93,
   "id": "9cb6bd14-09d3-4ddd-a2eb-278664b01700",
   "metadata": {},
   "outputs": [
    {
     "data": {
      "text/plain": [
       "2"
      ]
     },
     "execution_count": 93,
     "metadata": {},
     "output_type": "execute_result"
    }
   ],
   "source": [
    "test9(l)[5]"
   ]
  },
  {
   "cell_type": "code",
   "execution_count": 94,
   "id": "4cab3de5-7470-446b-ace2-252484bb1e4c",
   "metadata": {},
   "outputs": [
    {
     "data": {
      "text/plain": [
       "7"
      ]
     },
     "execution_count": 94,
     "metadata": {},
     "output_type": "execute_result"
    }
   ],
   "source": [
    "len(l)"
   ]
  },
  {
   "cell_type": "code",
   "execution_count": 95,
   "id": "34677e67-ce64-45bf-baae-e665bb3f5526",
   "metadata": {},
   "outputs": [],
   "source": [
    "def test9(a):\n",
    "    \"\"\" This is my function to extract num data from list\"\"\"\n",
    "\n",
    "    \n",
    "    l = []\n",
    "    for i in a:\n",
    "        if type(i) == list:\n",
    "            for j in i:\n",
    "                l.append(j)\n",
    "        else:\n",
    "            if type(i) == int  or type(i) == float:\n",
    "                l.append(i)\n",
    "    return l"
   ]
  },
  {
   "cell_type": "code",
   "execution_count": 96,
   "id": "8dc6c29e-5532-4ab4-8678-7bc83fb030c6",
   "metadata": {},
   "outputs": [
    {
     "data": {
      "text/plain": [
       "[1, 2, 3, 4, 1, 2, 3, 4, 9, 2, 7, 8]"
      ]
     },
     "execution_count": 96,
     "metadata": {},
     "output_type": "execute_result"
    }
   ],
   "source": [
    "test9(l)"
   ]
  },
  {
   "cell_type": "code",
   "execution_count": 97,
   "id": "be316e62-6bc5-4b30-a956-8a283a1f5c5c",
   "metadata": {},
   "outputs": [],
   "source": [
    "def test10(a,b):\n",
    "    return a+b"
   ]
  },
  {
   "cell_type": "code",
   "execution_count": 98,
   "id": "23f065d8-8b87-4b55-ab48-32095a255504",
   "metadata": {},
   "outputs": [],
   "source": [
    "\"\"\" if we want to take so many input in the function then we use '*' (asterisks) function \"\"\"\n",
    "def test11(*args): \n",
    "    return args"
   ]
  },
  {
   "cell_type": "code",
   "execution_count": 99,
   "id": "4b804460-961e-4a72-8d75-531af1f69861",
   "metadata": {},
   "outputs": [
    {
     "data": {
      "text/plain": [
       "()"
      ]
     },
     "execution_count": 99,
     "metadata": {},
     "output_type": "execute_result"
    }
   ],
   "source": [
    "test11()"
   ]
  },
  {
   "cell_type": "code",
   "execution_count": 100,
   "id": "6ee3382d-7367-4955-855e-949fd93e8de2",
   "metadata": {},
   "outputs": [
    {
     "data": {
      "text/plain": [
       "(1, 7, 3, 9, 6, 8, 5, 'sudh', 'kumar', [1, 3, 5])"
      ]
     },
     "execution_count": 100,
     "metadata": {},
     "output_type": "execute_result"
    }
   ],
   "source": [
    "test11(1,7,3,9,6,8,5,\"sudh\",\"kumar\",[1,3,5])"
   ]
  },
  {
   "cell_type": "code",
   "execution_count": 101,
   "id": "c7ca2f1d-10a5-46c6-a8b8-1511fd2aefbc",
   "metadata": {},
   "outputs": [],
   "source": [
    "def test12(*piyush):\n",
    "    return piyush"
   ]
  },
  {
   "cell_type": "code",
   "execution_count": 102,
   "id": "59c8dcc8-4d92-4bac-bbc4-6b868644fd73",
   "metadata": {},
   "outputs": [
    {
     "data": {
      "text/plain": [
       "(1, 3, 25, 8)"
      ]
     },
     "execution_count": 102,
     "metadata": {},
     "output_type": "execute_result"
    }
   ],
   "source": [
    "test12(1,3,25,8,)"
   ]
  },
  {
   "cell_type": "code",
   "execution_count": 105,
   "id": "958de478-235f-4b2c-86c2-f57fcbd9cbe7",
   "metadata": {},
   "outputs": [],
   "source": [
    "def test13(*args,a):\n",
    "    return args ,a"
   ]
  },
  {
   "cell_type": "code",
   "execution_count": 107,
   "id": "08c3b7a1-28f9-443b-8326-4dc6258aa401",
   "metadata": {},
   "outputs": [
    {
     "data": {
      "text/plain": [
       "((1, 3, 5), 5)"
      ]
     },
     "execution_count": 107,
     "metadata": {},
     "output_type": "execute_result"
    }
   ],
   "source": [
    "test13(1,3,5, a = 5)  #here the value of a is fix "
   ]
  },
  {
   "cell_type": "code",
   "execution_count": 108,
   "id": "cb9ebce7-059e-4bca-bb73-23f25188f5a1",
   "metadata": {},
   "outputs": [],
   "source": [
    "def test14(c,d,a = 1 ,b = 5):\n",
    "    return a,b,c,d"
   ]
  },
  {
   "cell_type": "code",
   "execution_count": 109,
   "id": "99e108c1-bbe7-4bd4-9d81-e2e5e46cbb6e",
   "metadata": {},
   "outputs": [
    {
     "data": {
      "text/plain": [
       "(1, 5, 3, 4)"
      ]
     },
     "execution_count": 109,
     "metadata": {},
     "output_type": "execute_result"
    }
   ],
   "source": [
    "test14(3,4)"
   ]
  },
  {
   "cell_type": "code",
   "execution_count": 111,
   "id": "85619822-857c-4bc4-a2c7-78be0322d167",
   "metadata": {},
   "outputs": [
    {
     "data": {
      "text/plain": [
       "(253, 5, 2, 3)"
      ]
     },
     "execution_count": 111,
     "metadata": {},
     "output_type": "execute_result"
    }
   ],
   "source": [
    "test14(2,3,a = 253)"
   ]
  },
  {
   "cell_type": "code",
   "execution_count": 112,
   "id": "d5f5b51b-0bcc-4113-ab12-22fb828ed78b",
   "metadata": {},
   "outputs": [],
   "source": [
    "def test16(**kwargs):\n",
    "    return kwargs\n"
   ]
  },
  {
   "cell_type": "code",
   "execution_count": 114,
   "id": "b8bf0420-b93b-42af-9fbf-dccf2471fc96",
   "metadata": {},
   "outputs": [
    {
     "data": {
      "text/plain": [
       "{}"
      ]
     },
     "execution_count": 114,
     "metadata": {},
     "output_type": "execute_result"
    }
   ],
   "source": [
    "test16()"
   ]
  },
  {
   "cell_type": "code",
   "execution_count": 116,
   "id": "391b75eb-9bab-452e-ac9b-7f1ca76a5143",
   "metadata": {},
   "outputs": [
    {
     "data": {
      "text/plain": [
       "dict"
      ]
     },
     "execution_count": 116,
     "metadata": {},
     "output_type": "execute_result"
    }
   ],
   "source": [
    "type(test16())"
   ]
  },
  {
   "cell_type": "code",
   "execution_count": null,
   "id": "61de683e-cbe6-459e-85b5-d4f0793aa3ae",
   "metadata": {},
   "outputs": [],
   "source": []
  }
 ],
 "metadata": {
  "kernelspec": {
   "display_name": "Python 3 (ipykernel)",
   "language": "python",
   "name": "python3"
  },
  "language_info": {
   "codemirror_mode": {
    "name": "ipython",
    "version": 3
   },
   "file_extension": ".py",
   "mimetype": "text/x-python",
   "name": "python",
   "nbconvert_exporter": "python",
   "pygments_lexer": "ipython3",
   "version": "3.11.4"
  }
 },
 "nbformat": 4,
 "nbformat_minor": 5
}
